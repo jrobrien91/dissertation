{
 "cells": [
  {
   "cell_type": "markdown",
   "id": "0f248c2b-05db-4c41-a3e3-632526eb4c57",
   "metadata": {},
   "source": [
    "# PyVista - NASA P3 Case Directory Read & Analysis"
   ]
  },
  {
   "cell_type": "code",
   "execution_count": 1,
   "id": "fea02177-1dfd-4c0b-9941-a584428f4ef3",
   "metadata": {},
   "outputs": [],
   "source": [
    "import numpy as np\n",
    "import matplotlib.pyplot as plt\n",
    "\n",
    "import pyvista as pv"
   ]
  },
  {
   "cell_type": "markdown",
   "id": "058a36e1-9728-4c2e-a573-8e1b1d0855d5",
   "metadata": {},
   "source": [
    "## Define Helper Functions to Slice the Internal Mesh"
   ]
  },
  {
   "cell_type": "code",
   "execution_count": 2,
   "id": "36a90642-3260-45c6-841d-7b975faad729",
   "metadata": {},
   "outputs": [],
   "source": [
    "def slice_z_center(mesh):\n",
    "    \"\"\"Slice mesh through center in z normal direction, move to z=0.\"\"\"\n",
    "    slice_mesh = mesh.slice(normal='z')\n",
    "    slice_mesh.translate((0, 0, -slice_mesh.center[-1]), inplace=True)\n",
    "    return slice_mesh"
   ]
  },
  {
   "cell_type": "markdown",
   "id": "01188635-1f4e-41ed-a956-ab215727f358",
   "metadata": {},
   "source": [
    "## Define the Case Directory"
   ]
  },
  {
   "cell_type": "code",
   "execution_count": 3,
   "id": "4ba336e7-43cc-4b45-aeda-a06de1dff93e",
   "metadata": {},
   "outputs": [],
   "source": [
    "case_directory = '/Users/jrobrien/Dissertation/data/solutions/NASA_noPylons_v2_tas120_aoa0_900T33/'"
   ]
  },
  {
   "cell_type": "code",
   "execution_count": 4,
   "id": "b1c898b2-9169-4e67-923e-ec0b785e72dc",
   "metadata": {},
   "outputs": [],
   "source": [
    "reader = pv.POpenFOAMReader(case_directory + 'NASA_noPylons_v2_tas120_aoa0_900T33.OpenFOAM')"
   ]
  },
  {
   "cell_type": "markdown",
   "id": "7203975e-a7f3-4567-8f0e-3dc28ed1de9b",
   "metadata": {},
   "source": [
    "## Subset the final run "
   ]
  },
  {
   "cell_type": "code",
   "execution_count": 5,
   "id": "37dbf845-9471-4902-883e-8a2b2047d53a",
   "metadata": {},
   "outputs": [
    {
     "data": {
      "text/plain": [
       "786.0"
      ]
     },
     "execution_count": 5,
     "metadata": {},
     "output_type": "execute_result"
    }
   ],
   "source": [
    "reader.time_values[-1]"
   ]
  },
  {
   "cell_type": "code",
   "execution_count": 6,
   "id": "2689dc63-b962-4814-a0ac-7b903a14a9cf",
   "metadata": {},
   "outputs": [
    {
     "name": "stdout",
     "output_type": "stream",
     "text": [
      "CPU times: user 4.59 s, sys: 641 ms, total: 5.23 s\n",
      "Wall time: 5.21 s\n"
     ]
    }
   ],
   "source": [
    "%%time\n",
    "reader.set_active_time_value(reader.time_values[-1])\n",
    "reader.cell_to_point_creation = True\n",
    "mesh = reader.read()"
   ]
  },
  {
   "cell_type": "code",
   "execution_count": 7,
   "id": "bc7b9cec-0e76-4e74-8acd-fa6909c5e03d",
   "metadata": {},
   "outputs": [],
   "source": [
    "internal_mesh = mesh[\"internalMesh\"]\n",
    "boundaries = mesh[\"boundary\"]"
   ]
  },
  {
   "cell_type": "code",
   "execution_count": 8,
   "id": "635740b9-7aa4-4800-8c36-b6f01ec346c4",
   "metadata": {},
   "outputs": [
    {
     "data": {
      "text/html": [
       "<table><tr><th>Header</th><th>Data Arrays</th></tr><tr><td>\n",
       "<table>\n",
       "<tr><th>UnstructuredGrid</th><th>Information</th></tr>\n",
       "<tr><td>N Cells</td><td>10691736</td></tr>\n",
       "<tr><td>N Points</td><td>11526824</td></tr>\n",
       "<tr><td>X Bounds</td><td>-2.000e+02, 2.000e+02</td></tr>\n",
       "<tr><td>Y Bounds</td><td>-2.000e+02, 2.000e+02</td></tr>\n",
       "<tr><td>Z Bounds</td><td>-2.000e+02, 2.000e+02</td></tr>\n",
       "<tr><td>N Arrays</td><td>18</td></tr>\n",
       "</table>\n",
       "\n",
       "</td><td>\n",
       "<table>\n",
       "<tr><th>Name</th><th>Field</th><th>Type</th><th>N Comp</th><th>Min</th><th>Max</th></tr>\n",
       "<tr><td>Ma</td><td>Points</td><td>float32</td><td>1</td><td>0.000e+00</td><td>5.085e-01</td></tr>\n",
       "<tr><td>T</td><td>Points</td><td>float32</td><td>1</td><td>2.985e+02</td><td>3.167e+02</td></tr>\n",
       "<tr><td>U</td><td>Points</td><td>float32</td><td>3</td><td>-1.207e+02</td><td>1.687e+02</td></tr>\n",
       "<tr><td>alphat</td><td>Points</td><td>float32</td><td>1</td><td>1.822e-08</td><td>6.188e-01</td></tr>\n",
       "<tr><td>k</td><td>Points</td><td>float32</td><td>1</td><td>4.741e-05</td><td>9.720e+02</td></tr>\n",
       "<tr><td>nut</td><td>Points</td><td>float32</td><td>1</td><td>1.820e-08</td><td>6.076e-01</td></tr>\n",
       "<tr><td>omega</td><td>Points</td><td>float32</td><td>1</td><td>1.190e+00</td><td>4.000e+05</td></tr>\n",
       "<tr><td><b>p</b></td><td>Points</td><td>float32</td><td>1</td><td>7.229e+04</td><td>9.750e+04</td></tr>\n",
       "<tr><td>rho</td><td>Points</td><td>float32</td><td>1</td><td>8.282e-01</td><td>1.083e+00</td></tr>\n",
       "<tr><td>Ma</td><td>Cells</td><td>float32</td><td>1</td><td>1.243e-03</td><td>5.272e-01</td></tr>\n",
       "<tr><td>T</td><td>Cells</td><td>float32</td><td>1</td><td>2.974e+02</td><td>3.175e+02</td></tr>\n",
       "<tr><td>U</td><td>Cells</td><td>float32</td><td>3</td><td>-1.396e+02</td><td>1.721e+02</td></tr>\n",
       "<tr><td>alphat</td><td>Cells</td><td>float32</td><td>1</td><td>1.358e-09</td><td>6.879e-01</td></tr>\n",
       "<tr><td>k</td><td>Cells</td><td>float32</td><td>1</td><td>4.698e-05</td><td>1.146e+03</td></tr>\n",
       "<tr><td>nut</td><td>Cells</td><td>float32</td><td>1</td><td>1.370e-09</td><td>6.752e-01</td></tr>\n",
       "<tr><td>omega</td><td>Cells</td><td>float32</td><td>1</td><td>1.099e+00</td><td>2.660e+04</td></tr>\n",
       "<tr><td><b>p</b></td><td>Cells</td><td>float32</td><td>1</td><td>7.229e+04</td><td>9.812e+04</td></tr>\n",
       "<tr><td>rho</td><td>Cells</td><td>float32</td><td>1</td><td>8.282e-01</td><td>1.097e+00</td></tr>\n",
       "</table>\n",
       "\n",
       "</td></tr> </table>"
      ],
      "text/plain": [
       "UnstructuredGrid (0x15cbe03a0)\n",
       "  N Cells:    10691736\n",
       "  N Points:   11526824\n",
       "  X Bounds:   -2.000e+02, 2.000e+02\n",
       "  Y Bounds:   -2.000e+02, 2.000e+02\n",
       "  Z Bounds:   -2.000e+02, 2.000e+02\n",
       "  N Arrays:   18"
      ]
     },
     "execution_count": 8,
     "metadata": {},
     "output_type": "execute_result"
    }
   ],
   "source": [
    "internal_mesh"
   ]
  },
  {
   "cell_type": "markdown",
   "id": "8c58a483-6867-436c-a124-2b2b5e6d2264",
   "metadata": {},
   "source": [
    "## Slice Mesh to View Aircraft - Plot"
   ]
  },
  {
   "cell_type": "code",
   "execution_count": 9,
   "id": "ddfe0492-ff79-44d6-934b-48adbe187d24",
   "metadata": {},
   "outputs": [
    {
     "name": "stderr",
     "output_type": "stream",
     "text": [
      "\u001b[0m\u001b[33m2023-05-17 22:36:28.615 (   6.251s) [          1739F8]      vtkPolyhedron.cxx:1742  WARN| A cell with a non-manifold triangulation has been encountered. This cell cannot be contoured.\u001b[0m\n",
      "\u001b[0m\u001b[33m2023-05-17 22:36:28.701 (   6.337s) [          1739F8]      vtkPolyhedron.cxx:1742  WARN| A cell with a non-manifold triangulation has been encountered. This cell cannot be contoured.\u001b[0m\n"
     ]
    }
   ],
   "source": [
    "slice_internal_mesh = slice_z_center(internal_mesh)"
   ]
  },
  {
   "cell_type": "code",
   "execution_count": 10,
   "id": "b92892be-4ebd-4e8d-8dbb-17cc80a2fda4",
   "metadata": {},
   "outputs": [
    {
     "data": {
      "text/html": [
       "<table><tr><th>Header</th><th>Data Arrays</th></tr><tr><td>\n",
       "<table>\n",
       "<tr><th>PolyData</th><th>Information</th></tr>\n",
       "<tr><td>N Cells</td><td>56461</td></tr>\n",
       "<tr><td>N Points</td><td>82061</td></tr>\n",
       "<tr><td>N Strips</td><td>0</td></tr>\n",
       "<tr><td>X Bounds</td><td>-2.000e+02, 2.000e+02</td></tr>\n",
       "<tr><td>Y Bounds</td><td>-2.000e+02, 2.000e+02</td></tr>\n",
       "<tr><td>Z Bounds</td><td>-6.805e-07, 6.805e-07</td></tr>\n",
       "<tr><td>N Arrays</td><td>18</td></tr>\n",
       "</table>\n",
       "\n",
       "</td><td>\n",
       "<table>\n",
       "<tr><th>Name</th><th>Field</th><th>Type</th><th>N Comp</th><th>Min</th><th>Max</th></tr>\n",
       "<tr><td>Ma</td><td>Points</td><td>float32</td><td>1</td><td>0.000e+00</td><td>4.719e-01</td></tr>\n",
       "<tr><td>T</td><td>Points</td><td>float32</td><td>1</td><td>3.006e+02</td><td>3.130e+02</td></tr>\n",
       "<tr><td>U</td><td>Points</td><td>float32</td><td>3</td><td>-5.589e+01</td><td>1.566e+02</td></tr>\n",
       "<tr><td>alphat</td><td>Points</td><td>float32</td><td>1</td><td>4.701e-08</td><td>4.750e-01</td></tr>\n",
       "<tr><td>k</td><td>Points</td><td>float32</td><td>1</td><td>4.875e-05</td><td>2.059e+02</td></tr>\n",
       "<tr><td>nut</td><td>Points</td><td>float32</td><td>1</td><td>4.450e-08</td><td>4.650e-01</td></tr>\n",
       "<tr><td>omega</td><td>Points</td><td>float32</td><td>1</td><td>3.768e+00</td><td>4.000e+05</td></tr>\n",
       "<tr><td><b>p</b></td><td>Points</td><td>float32</td><td>1</td><td>8.365e+04</td><td>9.746e+04</td></tr>\n",
       "<tr><td>rho</td><td>Points</td><td>float32</td><td>1</td><td>9.575e-01</td><td>1.082e+00</td></tr>\n",
       "<tr><td>Ma</td><td>Cells</td><td>float32</td><td>1</td><td>6.434e-03</td><td>4.873e-01</td></tr>\n",
       "<tr><td>T</td><td>Cells</td><td>float32</td><td>1</td><td>2.999e+02</td><td>3.138e+02</td></tr>\n",
       "<tr><td>U</td><td>Cells</td><td>float32</td><td>3</td><td>-5.926e+01</td><td>1.596e+02</td></tr>\n",
       "<tr><td>alphat</td><td>Cells</td><td>float32</td><td>1</td><td>1.979e-09</td><td>5.038e-01</td></tr>\n",
       "<tr><td>k</td><td>Cells</td><td>float32</td><td>1</td><td>4.875e-05</td><td>2.288e+02</td></tr>\n",
       "<tr><td>nut</td><td>Cells</td><td>float32</td><td>1</td><td>1.977e-09</td><td>4.919e-01</td></tr>\n",
       "<tr><td>omega</td><td>Cells</td><td>float32</td><td>1</td><td>2.932e+00</td><td>1.667e+04</td></tr>\n",
       "<tr><td><b>p</b></td><td>Cells</td><td>float32</td><td>1</td><td>8.236e+04</td><td>9.749e+04</td></tr>\n",
       "<tr><td>rho</td><td>Cells</td><td>float32</td><td>1</td><td>9.478e-01</td><td>1.082e+00</td></tr>\n",
       "</table>\n",
       "\n",
       "</td></tr> </table>"
      ],
      "text/plain": [
       "PolyData (0x15cbe0ac0)\n",
       "  N Cells:    56461\n",
       "  N Points:   82061\n",
       "  N Strips:   0\n",
       "  X Bounds:   -2.000e+02, 2.000e+02\n",
       "  Y Bounds:   -2.000e+02, 2.000e+02\n",
       "  Z Bounds:   -6.805e-07, 6.805e-07\n",
       "  N Arrays:   18"
      ]
     },
     "execution_count": 10,
     "metadata": {},
     "output_type": "execute_result"
    }
   ],
   "source": [
    "slice_internal_mesh"
   ]
  },
  {
   "cell_type": "code",
   "execution_count": 14,
   "id": "1753b21e-5682-40df-9b96-be6b7f84a86c",
   "metadata": {},
   "outputs": [
    {
     "data": {
      "application/vnd.jupyter.widget-view+json": {
       "model_id": "e917382fd7234052a4d9493d414a2a28",
       "version_major": 2,
       "version_minor": 0
      },
      "text/plain": [
       "Widget(value=\"<iframe src='http://localhost:61764/index.html?ui=P_0x3ab026fa0_3&reconnect=auto' style='width: …"
      ]
     },
     "metadata": {},
     "output_type": "display_data"
    }
   ],
   "source": [
    "pt = pv.Plotter()\n",
    "pt.add_mesh(slice_internal_mesh, scalars='U')\n",
    "pt.show()"
   ]
  },
  {
   "cell_type": "code",
   "execution_count": null,
   "id": "7102744e-de73-4fb0-a2af-388116cb357b",
   "metadata": {},
   "outputs": [],
   "source": []
  }
 ],
 "metadata": {
  "kernelspec": {
   "display_name": "Python 3 (ipykernel)",
   "language": "python",
   "name": "python3"
  },
  "language_info": {
   "codemirror_mode": {
    "name": "ipython",
    "version": 3
   },
   "file_extension": ".py",
   "mimetype": "text/x-python",
   "name": "python",
   "nbconvert_exporter": "python",
   "pygments_lexer": "ipython3",
   "version": "3.9.16"
  }
 },
 "nbformat": 4,
 "nbformat_minor": 5
}

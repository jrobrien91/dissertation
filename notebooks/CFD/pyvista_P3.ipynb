{
 "cells": [
  {
   "cell_type": "markdown",
   "id": "0f248c2b-05db-4c41-a3e3-632526eb4c57",
   "metadata": {},
   "source": [
    "# PyVista - NASA P3 Case Directory Read & Analysis"
   ]
  },
  {
   "cell_type": "code",
   "execution_count": 1,
   "id": "fea02177-1dfd-4c0b-9941-a584428f4ef3",
   "metadata": {},
   "outputs": [],
   "source": [
    "import numpy as np\n",
    "import matplotlib.pyplot as plt\n",
    "\n",
    "import pyvista as pv"
   ]
  },
  {
   "cell_type": "markdown",
   "id": "058a36e1-9728-4c2e-a573-8e1b1d0855d5",
   "metadata": {},
   "source": [
    "## Define Helper Functions to Slice the Internal Mesh"
   ]
  },
  {
   "cell_type": "code",
   "execution_count": 48,
   "id": "36a90642-3260-45c6-841d-7b975faad729",
   "metadata": {},
   "outputs": [],
   "source": [
    "def slice_center(mesh, NORMAL='z', ORIGIN=[0, 0, 0], translate=False, CONTOUR=False):\n",
    "    \"\"\"Slice mesh through center in normal direction, move to zero normal.\"\"\"\n",
    "    slice_mesh = mesh.slice(normal=NORMAL, origin=ORIGIN, contour=CONTOUR)\n",
    "    if translate is not False:\n",
    "        if NORMAL == 'z':\n",
    "            slice_mesh.translate((0, 0, -slice_mesh.center[-1]), inplace=True)\n",
    "        elif NORMAL == 'x':\n",
    "            slice_mesh.translate((-slice.mesh.center[0], 0, 0), inplace=True)\n",
    "        elif NORMAL == 'y':\n",
    "            slice_mesh.translate((0, -slice.mesh.center[1], 0), inplace=True)\n",
    "        else:\n",
    "            print('ERROR: Normal not found - ', NORMAL)\n",
    "            slice_mesh = None\n",
    "    return slice_mesh"
   ]
  },
  {
   "cell_type": "code",
   "execution_count": 57,
   "id": "ce3a8486-f3c6-4492-ab3f-d45a05d12c71",
   "metadata": {},
   "outputs": [],
   "source": [
    "def slice_multiple(mesh, NORMAL='z', nslices=2, CONTOUR=False):\n",
    "    \"\"\"Slice mesh multiple times along specified axis, move to z=0.\"\"\"\n",
    "    slice_mesh = mesh.slice_along_axis(n=nslices, axis=NORMAL, contour=CONTOUR)\n",
    "    #slice_mesh.translate((0, 0, -slice_mesh.center[-1]), inplace=True)\n",
    "    return slice_mesh"
   ]
  },
  {
   "cell_type": "markdown",
   "id": "01188635-1f4e-41ed-a956-ab215727f358",
   "metadata": {},
   "source": [
    "## Define the Case Directory"
   ]
  },
  {
   "cell_type": "code",
   "execution_count": 3,
   "id": "4ba336e7-43cc-4b45-aeda-a06de1dff93e",
   "metadata": {},
   "outputs": [],
   "source": [
    "case_directory = '/Users/jrobrien/Dissertation/data/solutions/NASA_noPylons_v2_tas120_aoa0_900T33/'"
   ]
  },
  {
   "cell_type": "code",
   "execution_count": 4,
   "id": "b1c898b2-9169-4e67-923e-ec0b785e72dc",
   "metadata": {},
   "outputs": [],
   "source": [
    "reader = pv.POpenFOAMReader(case_directory + 'NASA_noPylons_v2_tas120_aoa0_900T33.OpenFOAM')"
   ]
  },
  {
   "cell_type": "markdown",
   "id": "7203975e-a7f3-4567-8f0e-3dc28ed1de9b",
   "metadata": {},
   "source": [
    "## Subset the final run "
   ]
  },
  {
   "cell_type": "code",
   "execution_count": 5,
   "id": "37dbf845-9471-4902-883e-8a2b2047d53a",
   "metadata": {},
   "outputs": [
    {
     "data": {
      "text/plain": [
       "786.0"
      ]
     },
     "execution_count": 5,
     "metadata": {},
     "output_type": "execute_result"
    }
   ],
   "source": [
    "reader.time_values[-1]"
   ]
  },
  {
   "cell_type": "code",
   "execution_count": 6,
   "id": "2689dc63-b962-4814-a0ac-7b903a14a9cf",
   "metadata": {},
   "outputs": [
    {
     "name": "stdout",
     "output_type": "stream",
     "text": [
      "CPU times: user 4.64 s, sys: 705 ms, total: 5.35 s\n",
      "Wall time: 5.33 s\n"
     ]
    }
   ],
   "source": [
    "%%time\n",
    "reader.set_active_time_value(reader.time_values[-1])\n",
    "reader.cell_to_point_creation = True\n",
    "mesh = reader.read()"
   ]
  },
  {
   "cell_type": "code",
   "execution_count": 7,
   "id": "bc7b9cec-0e76-4e74-8acd-fa6909c5e03d",
   "metadata": {},
   "outputs": [],
   "source": [
    "internal_mesh = mesh[\"internalMesh\"]\n",
    "boundaries = mesh[\"boundary\"]"
   ]
  },
  {
   "cell_type": "code",
   "execution_count": 8,
   "id": "635740b9-7aa4-4800-8c36-b6f01ec346c4",
   "metadata": {},
   "outputs": [
    {
     "data": {
      "text/html": [
       "<table><tr><th>Header</th><th>Data Arrays</th></tr><tr><td>\n",
       "<table>\n",
       "<tr><th>UnstructuredGrid</th><th>Information</th></tr>\n",
       "<tr><td>N Cells</td><td>10691736</td></tr>\n",
       "<tr><td>N Points</td><td>11526824</td></tr>\n",
       "<tr><td>X Bounds</td><td>-2.000e+02, 2.000e+02</td></tr>\n",
       "<tr><td>Y Bounds</td><td>-2.000e+02, 2.000e+02</td></tr>\n",
       "<tr><td>Z Bounds</td><td>-2.000e+02, 2.000e+02</td></tr>\n",
       "<tr><td>N Arrays</td><td>18</td></tr>\n",
       "</table>\n",
       "\n",
       "</td><td>\n",
       "<table>\n",
       "<tr><th>Name</th><th>Field</th><th>Type</th><th>N Comp</th><th>Min</th><th>Max</th></tr>\n",
       "<tr><td>Ma</td><td>Points</td><td>float32</td><td>1</td><td>0.000e+00</td><td>5.085e-01</td></tr>\n",
       "<tr><td>T</td><td>Points</td><td>float32</td><td>1</td><td>2.985e+02</td><td>3.167e+02</td></tr>\n",
       "<tr><td>U</td><td>Points</td><td>float32</td><td>3</td><td>-1.207e+02</td><td>1.687e+02</td></tr>\n",
       "<tr><td>alphat</td><td>Points</td><td>float32</td><td>1</td><td>1.822e-08</td><td>6.188e-01</td></tr>\n",
       "<tr><td>k</td><td>Points</td><td>float32</td><td>1</td><td>4.741e-05</td><td>9.720e+02</td></tr>\n",
       "<tr><td>nut</td><td>Points</td><td>float32</td><td>1</td><td>1.820e-08</td><td>6.076e-01</td></tr>\n",
       "<tr><td>omega</td><td>Points</td><td>float32</td><td>1</td><td>1.190e+00</td><td>4.000e+05</td></tr>\n",
       "<tr><td><b>p</b></td><td>Points</td><td>float32</td><td>1</td><td>7.229e+04</td><td>9.750e+04</td></tr>\n",
       "<tr><td>rho</td><td>Points</td><td>float32</td><td>1</td><td>8.282e-01</td><td>1.083e+00</td></tr>\n",
       "<tr><td>Ma</td><td>Cells</td><td>float32</td><td>1</td><td>1.243e-03</td><td>5.272e-01</td></tr>\n",
       "<tr><td>T</td><td>Cells</td><td>float32</td><td>1</td><td>2.974e+02</td><td>3.175e+02</td></tr>\n",
       "<tr><td>U</td><td>Cells</td><td>float32</td><td>3</td><td>-1.396e+02</td><td>1.721e+02</td></tr>\n",
       "<tr><td>alphat</td><td>Cells</td><td>float32</td><td>1</td><td>1.358e-09</td><td>6.879e-01</td></tr>\n",
       "<tr><td>k</td><td>Cells</td><td>float32</td><td>1</td><td>4.698e-05</td><td>1.146e+03</td></tr>\n",
       "<tr><td>nut</td><td>Cells</td><td>float32</td><td>1</td><td>1.370e-09</td><td>6.752e-01</td></tr>\n",
       "<tr><td>omega</td><td>Cells</td><td>float32</td><td>1</td><td>1.099e+00</td><td>2.660e+04</td></tr>\n",
       "<tr><td><b>p</b></td><td>Cells</td><td>float32</td><td>1</td><td>7.229e+04</td><td>9.812e+04</td></tr>\n",
       "<tr><td>rho</td><td>Cells</td><td>float32</td><td>1</td><td>8.282e-01</td><td>1.097e+00</td></tr>\n",
       "</table>\n",
       "\n",
       "</td></tr> </table>"
      ],
      "text/plain": [
       "UnstructuredGrid (0x105f12e20)\n",
       "  N Cells:    10691736\n",
       "  N Points:   11526824\n",
       "  X Bounds:   -2.000e+02, 2.000e+02\n",
       "  Y Bounds:   -2.000e+02, 2.000e+02\n",
       "  Z Bounds:   -2.000e+02, 2.000e+02\n",
       "  N Arrays:   18"
      ]
     },
     "execution_count": 8,
     "metadata": {},
     "output_type": "execute_result"
    }
   ],
   "source": [
    "internal_mesh"
   ]
  },
  {
   "cell_type": "markdown",
   "id": "8c58a483-6867-436c-a124-2b2b5e6d2264",
   "metadata": {},
   "source": [
    "## Slice Mesh to View Aircraft - Plot"
   ]
  },
  {
   "cell_type": "code",
   "execution_count": 9,
   "id": "ddfe0492-ff79-44d6-934b-48adbe187d24",
   "metadata": {},
   "outputs": [
    {
     "name": "stderr",
     "output_type": "stream",
     "text": [
      "\u001b[0m\u001b[33m2023-05-22 21:27:20.283 (  22.680s) [          2C0622]      vtkPolyhedron.cxx:1742  WARN| A cell with a non-manifold triangulation has been encountered. This cell cannot be contoured.\u001b[0m\n",
      "\u001b[0m\u001b[33m2023-05-22 21:27:20.368 (  22.766s) [          2C0622]      vtkPolyhedron.cxx:1742  WARN| A cell with a non-manifold triangulation has been encountered. This cell cannot be contoured.\u001b[0m\n"
     ]
    }
   ],
   "source": [
    "slice_internal_mesh = slice_z_center(internal_mesh)"
   ]
  },
  {
   "cell_type": "code",
   "execution_count": 10,
   "id": "b92892be-4ebd-4e8d-8dbb-17cc80a2fda4",
   "metadata": {},
   "outputs": [
    {
     "data": {
      "text/html": [
       "<table><tr><th>Header</th><th>Data Arrays</th></tr><tr><td>\n",
       "<table>\n",
       "<tr><th>PolyData</th><th>Information</th></tr>\n",
       "<tr><td>N Cells</td><td>56461</td></tr>\n",
       "<tr><td>N Points</td><td>82061</td></tr>\n",
       "<tr><td>N Strips</td><td>0</td></tr>\n",
       "<tr><td>X Bounds</td><td>-2.000e+02, 2.000e+02</td></tr>\n",
       "<tr><td>Y Bounds</td><td>-2.000e+02, 2.000e+02</td></tr>\n",
       "<tr><td>Z Bounds</td><td>-6.805e-07, 6.805e-07</td></tr>\n",
       "<tr><td>N Arrays</td><td>18</td></tr>\n",
       "</table>\n",
       "\n",
       "</td><td>\n",
       "<table>\n",
       "<tr><th>Name</th><th>Field</th><th>Type</th><th>N Comp</th><th>Min</th><th>Max</th></tr>\n",
       "<tr><td>Ma</td><td>Points</td><td>float32</td><td>1</td><td>0.000e+00</td><td>4.719e-01</td></tr>\n",
       "<tr><td>T</td><td>Points</td><td>float32</td><td>1</td><td>3.006e+02</td><td>3.130e+02</td></tr>\n",
       "<tr><td>U</td><td>Points</td><td>float32</td><td>3</td><td>-5.589e+01</td><td>1.566e+02</td></tr>\n",
       "<tr><td>alphat</td><td>Points</td><td>float32</td><td>1</td><td>4.701e-08</td><td>4.750e-01</td></tr>\n",
       "<tr><td>k</td><td>Points</td><td>float32</td><td>1</td><td>4.875e-05</td><td>2.059e+02</td></tr>\n",
       "<tr><td>nut</td><td>Points</td><td>float32</td><td>1</td><td>4.450e-08</td><td>4.650e-01</td></tr>\n",
       "<tr><td>omega</td><td>Points</td><td>float32</td><td>1</td><td>3.768e+00</td><td>4.000e+05</td></tr>\n",
       "<tr><td><b>p</b></td><td>Points</td><td>float32</td><td>1</td><td>8.365e+04</td><td>9.746e+04</td></tr>\n",
       "<tr><td>rho</td><td>Points</td><td>float32</td><td>1</td><td>9.575e-01</td><td>1.082e+00</td></tr>\n",
       "<tr><td>Ma</td><td>Cells</td><td>float32</td><td>1</td><td>6.434e-03</td><td>4.873e-01</td></tr>\n",
       "<tr><td>T</td><td>Cells</td><td>float32</td><td>1</td><td>2.999e+02</td><td>3.138e+02</td></tr>\n",
       "<tr><td>U</td><td>Cells</td><td>float32</td><td>3</td><td>-5.926e+01</td><td>1.596e+02</td></tr>\n",
       "<tr><td>alphat</td><td>Cells</td><td>float32</td><td>1</td><td>1.979e-09</td><td>5.038e-01</td></tr>\n",
       "<tr><td>k</td><td>Cells</td><td>float32</td><td>1</td><td>4.875e-05</td><td>2.288e+02</td></tr>\n",
       "<tr><td>nut</td><td>Cells</td><td>float32</td><td>1</td><td>1.977e-09</td><td>4.919e-01</td></tr>\n",
       "<tr><td>omega</td><td>Cells</td><td>float32</td><td>1</td><td>2.932e+00</td><td>1.667e+04</td></tr>\n",
       "<tr><td><b>p</b></td><td>Cells</td><td>float32</td><td>1</td><td>8.236e+04</td><td>9.749e+04</td></tr>\n",
       "<tr><td>rho</td><td>Cells</td><td>float32</td><td>1</td><td>9.478e-01</td><td>1.082e+00</td></tr>\n",
       "</table>\n",
       "\n",
       "</td></tr> </table>"
      ],
      "text/plain": [
       "PolyData (0x105f12ee0)\n",
       "  N Cells:    56461\n",
       "  N Points:   82061\n",
       "  N Strips:   0\n",
       "  X Bounds:   -2.000e+02, 2.000e+02\n",
       "  Y Bounds:   -2.000e+02, 2.000e+02\n",
       "  Z Bounds:   -6.805e-07, 6.805e-07\n",
       "  N Arrays:   18"
      ]
     },
     "execution_count": 10,
     "metadata": {},
     "output_type": "execute_result"
    }
   ],
   "source": [
    "slice_internal_mesh"
   ]
  },
  {
   "cell_type": "code",
   "execution_count": 12,
   "id": "1753b21e-5682-40df-9b96-be6b7f84a86c",
   "metadata": {},
   "outputs": [
    {
     "data": {
      "application/vnd.jupyter.widget-view+json": {
       "model_id": "79dbe43b69cd4f95bb080cbce04e279b",
       "version_major": 2,
       "version_minor": 0
      },
      "text/plain": [
       "Widget(value=\"<iframe src='http://localhost:65168/index.html?ui=P_0x3be38fdf0_1&reconnect=auto' style='width: …"
      ]
     },
     "metadata": {},
     "output_type": "display_data"
    }
   ],
   "source": [
    "pt = pv.Plotter()\n",
    "pt.add_mesh(slice_internal_mesh, scalars='U')\n",
    "pt.show(cpos=\"xy\")"
   ]
  },
  {
   "cell_type": "markdown",
   "id": "81289a61-1743-4ee4-85f0-81e1c8b43907",
   "metadata": {},
   "source": [
    "## Additional Slicing Functions"
   ]
  },
  {
   "cell_type": "markdown",
   "id": "0000f51d-4314-4387-9fb1-12210ef26433",
   "metadata": {},
   "source": [
    "### Z-slice - move origin"
   ]
  },
  {
   "cell_type": "code",
   "execution_count": 52,
   "id": "f420b36a-8fde-4270-9545-4d44e12f8ae7",
   "metadata": {},
   "outputs": [
    {
     "name": "stderr",
     "output_type": "stream",
     "text": [
      "\u001b[0m\u001b[33m2023-05-22 22:25:05.321 (3487.792s) [          2C0622]      vtkPolyhedron.cxx:1742  WARN| A cell with a non-manifold triangulation has been encountered. This cell cannot be contoured.\u001b[0m\n",
      "\u001b[0m\u001b[33m2023-05-22 22:25:05.407 (3487.878s) [          2C0622]      vtkPolyhedron.cxx:1742  WARN| A cell with a non-manifold triangulation has been encountered. This cell cannot be contoured.\u001b[0m\n"
     ]
    },
    {
     "data": {
      "application/vnd.jupyter.widget-view+json": {
       "model_id": "19d5af689b874cd385cd2867097398c4",
       "version_major": 2,
       "version_minor": 0
      },
      "text/plain": [
       "Widget(value=\"<iframe src='http://localhost:65168/index.html?ui=P_0x3c6562460_18&reconnect=auto' style='width:…"
      ]
     },
     "metadata": {},
     "output_type": "display_data"
    }
   ],
   "source": [
    "slice_mesh2 = slice_center(mesh['internalMesh'], NORMAL='z', CONTOUR=True)\n",
    "pt = pv.Plotter()\n",
    "pt.add_mesh(slice_mesh2, scalars='U')\n",
    "pt.show(cpos=\"xy\")"
   ]
  },
  {
   "cell_type": "markdown",
   "id": "cc79f59f-4b1e-496a-b422-04529aa7733b",
   "metadata": {},
   "source": [
    "### y-axis slice"
   ]
  },
  {
   "cell_type": "code",
   "execution_count": 35,
   "id": "512fcdcf-a744-4db8-875d-6a6d37d740f1",
   "metadata": {},
   "outputs": [],
   "source": [
    "slice3 = slice_center(mesh['internalMesh'], NORMAL='y')"
   ]
  },
  {
   "cell_type": "code",
   "execution_count": 42,
   "id": "ed5da186-784c-42cc-b752-8ad34ece8508",
   "metadata": {},
   "outputs": [
    {
     "data": {
      "application/vnd.jupyter.widget-view+json": {
       "model_id": "5328158afa7f4269946af783f2a376b1",
       "version_major": 2,
       "version_minor": 0
      },
      "text/plain": [
       "Widget(value=\"<iframe src='http://localhost:65168/index.html?ui=P_0x3c655e220_10&reconnect=auto' style='width:…"
      ]
     },
     "metadata": {},
     "output_type": "display_data"
    }
   ],
   "source": [
    "slice3 = slice_center(mesh['internalMesh'], NORMAL='y', ORIGIN=[0, 0, 5])\n",
    "pt = pv.Plotter()\n",
    "pt.add_mesh(slice3, scalars='U')\n",
    "pt.show(cpos=\"zx\")"
   ]
  },
  {
   "cell_type": "markdown",
   "id": "c6807990-4bba-47f3-9966-9339b89d5579",
   "metadata": {},
   "source": [
    "### x-slice"
   ]
  },
  {
   "cell_type": "code",
   "execution_count": 50,
   "id": "b8359fd4-40c7-4a52-8ff0-4cb6afa776ef",
   "metadata": {},
   "outputs": [
    {
     "data": {
      "application/vnd.jupyter.widget-view+json": {
       "model_id": "59d85b1682a549e5b7b063c1547891cb",
       "version_major": 2,
       "version_minor": 0
      },
      "text/plain": [
       "Widget(value=\"<iframe src='http://localhost:65168/index.html?ui=P_0x3c6562d30_17&reconnect=auto' style='width:…"
      ]
     },
     "metadata": {},
     "output_type": "display_data"
    }
   ],
   "source": [
    "slice4 = slice_center(mesh['internalMesh'], NORMAL='x', ORIGIN=[15, 0, 0], CONTOUR=True)\n",
    "pt = pv.Plotter()\n",
    "pt.add_mesh(slice4, scalars='U')\n",
    "pt.show(cpos=\"zy\")"
   ]
  },
  {
   "cell_type": "markdown",
   "id": "fb9f86f7-ed97-436e-a8a4-f8a62e80967e",
   "metadata": {},
   "source": [
    "### Polyslice"
   ]
  },
  {
   "cell_type": "code",
   "execution_count": 62,
   "id": "5784dc80-ce0f-433b-afb6-dd34db2f078f",
   "metadata": {},
   "outputs": [
    {
     "ename": "TypeError",
     "evalue": "unsupported operand type(s) for +: 'MultiBlock' and 'MultiBlock'",
     "output_type": "error",
     "traceback": [
      "\u001b[0;31m---------------------------------------------------------------------------\u001b[0m",
      "\u001b[0;31mTypeError\u001b[0m                                 Traceback (most recent call last)",
      "Cell \u001b[0;32mIn[62], line 5\u001b[0m\n\u001b[1;32m      3\u001b[0m sliceB \u001b[38;5;241m=\u001b[39m slice_multiple(mesh[\u001b[38;5;124m'\u001b[39m\u001b[38;5;124minternalMesh\u001b[39m\u001b[38;5;124m'\u001b[39m], NORMAL\u001b[38;5;241m=\u001b[39m\u001b[38;5;124m'\u001b[39m\u001b[38;5;124my\u001b[39m\u001b[38;5;124m'\u001b[39m, nslices\u001b[38;5;241m=\u001b[39m\u001b[38;5;241m10\u001b[39m, CONTOUR\u001b[38;5;241m=\u001b[39m\u001b[38;5;28;01mTrue\u001b[39;00m)\n\u001b[1;32m      4\u001b[0m pt \u001b[38;5;241m=\u001b[39m pv\u001b[38;5;241m.\u001b[39mPlotter()\n\u001b[0;32m----> 5\u001b[0m pt\u001b[38;5;241m.\u001b[39madd_mesh(\u001b[43msliceA\u001b[49m\u001b[43m \u001b[49m\u001b[38;5;241;43m+\u001b[39;49m\u001b[43m \u001b[49m\u001b[43msliceB\u001b[49m \u001b[38;5;241m+\u001b[39m sliceC, scalars\u001b[38;5;241m=\u001b[39m\u001b[38;5;124m'\u001b[39m\u001b[38;5;124mU\u001b[39m\u001b[38;5;124m'\u001b[39m)\n\u001b[1;32m      6\u001b[0m pt\u001b[38;5;241m.\u001b[39mshow(cpos\u001b[38;5;241m=\u001b[39m\u001b[38;5;124m\"\u001b[39m\u001b[38;5;124mxy\u001b[39m\u001b[38;5;124m\"\u001b[39m)\n",
      "\u001b[0;31mTypeError\u001b[0m: unsupported operand type(s) for +: 'MultiBlock' and 'MultiBlock'"
     ]
    }
   ],
   "source": [
    "sliceA = slice_multiple(mesh['internalMesh'], NORMAL='z', nslices=10, CONTOUR=True)\n",
    "sliceB = slice_multiple(mesh['internalMesh'], NORMAL='x', nslices=10, CONTOUR=True)\n",
    "sliceB = slice_multiple(mesh['internalMesh'], NORMAL='y', nslices=10, CONTOUR=True)\n",
    "pt = pv.Plotter()\n",
    "pt.add_mesh(sliceA + sliceB + sliceC, scalars='U')\n",
    "pt.show(cpos=\"xy\")"
   ]
  },
  {
   "cell_type": "markdown",
   "id": "0dca97de-729a-4f20-b869-34cb608efdfc",
   "metadata": {},
   "source": [
    "## Thresholding - Not working"
   ]
  },
  {
   "cell_type": "code",
   "execution_count": 74,
   "id": "3eac74f3-d45d-4fbf-85a9-67435aac698e",
   "metadata": {},
   "outputs": [],
   "source": [
    "threshed = mesh['internalMesh'].threshold(value=120)"
   ]
  },
  {
   "cell_type": "code",
   "execution_count": null,
   "id": "c3aae2f5-4c83-4e27-a543-bdcf64ee0c63",
   "metadata": {},
   "outputs": [],
   "source": []
  }
 ],
 "metadata": {
  "kernelspec": {
   "display_name": "Python 3 (ipykernel)",
   "language": "python",
   "name": "python3"
  },
  "language_info": {
   "codemirror_mode": {
    "name": "ipython",
    "version": 3
   },
   "file_extension": ".py",
   "mimetype": "text/x-python",
   "name": "python",
   "nbconvert_exporter": "python",
   "pygments_lexer": "ipython3",
   "version": "3.9.16"
  }
 },
 "nbformat": 4,
 "nbformat_minor": 5
}

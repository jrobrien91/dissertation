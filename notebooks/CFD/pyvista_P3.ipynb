{
 "cells": [
  {
   "cell_type": "markdown",
   "id": "0f248c2b-05db-4c41-a3e3-632526eb4c57",
   "metadata": {},
   "source": [
    "# PyVista - NASA P3 Case Directory Read & Analysis"
   ]
  },
  {
   "cell_type": "code",
   "execution_count": 1,
   "id": "fea02177-1dfd-4c0b-9941-a584428f4ef3",
   "metadata": {},
   "outputs": [],
   "source": [
    "import numpy as np\n",
    "import matplotlib.pyplot as plt\n",
    "\n",
    "import pyvista as pv"
   ]
  },
  {
   "cell_type": "markdown",
   "id": "058a36e1-9728-4c2e-a573-8e1b1d0855d5",
   "metadata": {},
   "source": [
    "## Define Helper Functions to Slice the Internal Mesh"
   ]
  },
  {
   "cell_type": "code",
   "execution_count": 2,
   "id": "36a90642-3260-45c6-841d-7b975faad729",
   "metadata": {},
   "outputs": [],
   "source": [
    "def slice_center(mesh, \n",
    "                 NORMAL='z', \n",
    "                 ORIGIN=[0, 0, 0], \n",
    "                 translate=False, \n",
    "                 CONTOUR=False\n",
    "                ):\n",
    "    \"\"\"Slice mesh through center in normal direction, move to zero normal.\"\"\"\n",
    "    slice_mesh = mesh.slice(normal=NORMAL, origin=ORIGIN, contour=CONTOUR)\n",
    "    if translate is not False:\n",
    "        if NORMAL == 'z':\n",
    "            slice_mesh.translate((0, 0, -slice_mesh.center[-1]), inplace=True)\n",
    "        elif NORMAL == 'x':\n",
    "            slice_mesh.translate((-slice.mesh.center[0], 0, 0), inplace=True)\n",
    "        elif NORMAL == 'y':\n",
    "            slice_mesh.translate((0, -slice.mesh.center[1], 0), inplace=True)\n",
    "        else:\n",
    "            print('ERROR: Normal not found - ', NORMAL)\n",
    "            slice_mesh = None\n",
    "    return slice_mesh"
   ]
  },
  {
   "cell_type": "code",
   "execution_count": 3,
   "id": "ce3a8486-f3c6-4492-ab3f-d45a05d12c71",
   "metadata": {},
   "outputs": [],
   "source": [
    "def slice_multiple(mesh, NORMAL='z', nslices=2, CONTOUR=False):\n",
    "    \"\"\"Slice mesh multiple times along specified axis, move to z=0.\"\"\"\n",
    "    slice_mesh = mesh.slice_along_axis(n=nslices, axis=NORMAL, contour=CONTOUR)\n",
    "    #slice_mesh.translate((0, 0, -slice_mesh.center[-1]), inplace=True)\n",
    "    return slice_mesh"
   ]
  },
  {
   "cell_type": "markdown",
   "id": "01188635-1f4e-41ed-a956-ab215727f358",
   "metadata": {},
   "source": [
    "## Define the Case Directory"
   ]
  },
  {
   "cell_type": "code",
   "execution_count": 4,
   "id": "4ba336e7-43cc-4b45-aeda-a06de1dff93e",
   "metadata": {},
   "outputs": [],
   "source": [
    "case_directory = '/Users/jrobrien/Dissertation/data/solutions/NASA_noPylons_v2_tas120_aoa0_900T33/'"
   ]
  },
  {
   "cell_type": "code",
   "execution_count": 5,
   "id": "b1c898b2-9169-4e67-923e-ec0b785e72dc",
   "metadata": {},
   "outputs": [],
   "source": [
    "reader = pv.POpenFOAMReader(case_directory + 'NASA_noPylons_v2_tas120_aoa0_900T33.OpenFOAM')"
   ]
  },
  {
   "cell_type": "markdown",
   "id": "7203975e-a7f3-4567-8f0e-3dc28ed1de9b",
   "metadata": {},
   "source": [
    "## Subset the final run "
   ]
  },
  {
   "cell_type": "code",
   "execution_count": 6,
   "id": "37dbf845-9471-4902-883e-8a2b2047d53a",
   "metadata": {},
   "outputs": [
    {
     "data": {
      "text/plain": [
       "786.0"
      ]
     },
     "execution_count": 6,
     "metadata": {},
     "output_type": "execute_result"
    }
   ],
   "source": [
    "reader.time_values[-1]"
   ]
  },
  {
   "cell_type": "code",
   "execution_count": 7,
   "id": "2689dc63-b962-4814-a0ac-7b903a14a9cf",
   "metadata": {},
   "outputs": [
    {
     "name": "stdout",
     "output_type": "stream",
     "text": [
      "CPU times: user 4.59 s, sys: 732 ms, total: 5.32 s\n",
      "Wall time: 5.3 s\n"
     ]
    }
   ],
   "source": [
    "%%time\n",
    "reader.set_active_time_value(reader.time_values[-1])\n",
    "reader.cell_to_point_creation = True\n",
    "mesh = reader.read()"
   ]
  },
  {
   "cell_type": "code",
   "execution_count": 8,
   "id": "bc7b9cec-0e76-4e74-8acd-fa6909c5e03d",
   "metadata": {},
   "outputs": [],
   "source": [
    "internal_mesh = mesh[\"internalMesh\"]\n",
    "boundaries = mesh[\"boundary\"]"
   ]
  },
  {
   "cell_type": "code",
   "execution_count": 9,
   "id": "4330f295-4735-4ccc-a6c1-3eb561ef2037",
   "metadata": {},
   "outputs": [
    {
     "data": {
      "text/plain": [
       "120.0"
      ]
     },
     "execution_count": 9,
     "metadata": {},
     "output_type": "execute_result"
    }
   ],
   "source": [
    "boundaries['inlet']['U'][0][0]"
   ]
  },
  {
   "cell_type": "code",
   "execution_count": 10,
   "id": "635740b9-7aa4-4800-8c36-b6f01ec346c4",
   "metadata": {},
   "outputs": [
    {
     "data": {
      "text/html": [
       "<table><tr><th>Header</th><th>Data Arrays</th></tr><tr><td>\n",
       "<table>\n",
       "<tr><th>UnstructuredGrid</th><th>Information</th></tr>\n",
       "<tr><td>N Cells</td><td>10691736</td></tr>\n",
       "<tr><td>N Points</td><td>11526824</td></tr>\n",
       "<tr><td>X Bounds</td><td>-2.000e+02, 2.000e+02</td></tr>\n",
       "<tr><td>Y Bounds</td><td>-2.000e+02, 2.000e+02</td></tr>\n",
       "<tr><td>Z Bounds</td><td>-2.000e+02, 2.000e+02</td></tr>\n",
       "<tr><td>N Arrays</td><td>18</td></tr>\n",
       "</table>\n",
       "\n",
       "</td><td>\n",
       "<table>\n",
       "<tr><th>Name</th><th>Field</th><th>Type</th><th>N Comp</th><th>Min</th><th>Max</th></tr>\n",
       "<tr><td>Ma</td><td>Points</td><td>float32</td><td>1</td><td>0.000e+00</td><td>5.085e-01</td></tr>\n",
       "<tr><td>T</td><td>Points</td><td>float32</td><td>1</td><td>2.985e+02</td><td>3.167e+02</td></tr>\n",
       "<tr><td>U</td><td>Points</td><td>float32</td><td>3</td><td>-1.207e+02</td><td>1.687e+02</td></tr>\n",
       "<tr><td>alphat</td><td>Points</td><td>float32</td><td>1</td><td>1.822e-08</td><td>6.188e-01</td></tr>\n",
       "<tr><td>k</td><td>Points</td><td>float32</td><td>1</td><td>4.741e-05</td><td>9.720e+02</td></tr>\n",
       "<tr><td>nut</td><td>Points</td><td>float32</td><td>1</td><td>1.820e-08</td><td>6.076e-01</td></tr>\n",
       "<tr><td>omega</td><td>Points</td><td>float32</td><td>1</td><td>1.190e+00</td><td>4.000e+05</td></tr>\n",
       "<tr><td><b>p</b></td><td>Points</td><td>float32</td><td>1</td><td>7.229e+04</td><td>9.750e+04</td></tr>\n",
       "<tr><td>rho</td><td>Points</td><td>float32</td><td>1</td><td>8.282e-01</td><td>1.083e+00</td></tr>\n",
       "<tr><td>Ma</td><td>Cells</td><td>float32</td><td>1</td><td>1.243e-03</td><td>5.272e-01</td></tr>\n",
       "<tr><td>T</td><td>Cells</td><td>float32</td><td>1</td><td>2.974e+02</td><td>3.175e+02</td></tr>\n",
       "<tr><td>U</td><td>Cells</td><td>float32</td><td>3</td><td>-1.396e+02</td><td>1.721e+02</td></tr>\n",
       "<tr><td>alphat</td><td>Cells</td><td>float32</td><td>1</td><td>1.358e-09</td><td>6.879e-01</td></tr>\n",
       "<tr><td>k</td><td>Cells</td><td>float32</td><td>1</td><td>4.698e-05</td><td>1.146e+03</td></tr>\n",
       "<tr><td>nut</td><td>Cells</td><td>float32</td><td>1</td><td>1.370e-09</td><td>6.752e-01</td></tr>\n",
       "<tr><td>omega</td><td>Cells</td><td>float32</td><td>1</td><td>1.099e+00</td><td>2.660e+04</td></tr>\n",
       "<tr><td><b>p</b></td><td>Cells</td><td>float32</td><td>1</td><td>7.229e+04</td><td>9.812e+04</td></tr>\n",
       "<tr><td>rho</td><td>Cells</td><td>float32</td><td>1</td><td>8.282e-01</td><td>1.097e+00</td></tr>\n",
       "</table>\n",
       "\n",
       "</td></tr> </table>"
      ],
      "text/plain": [
       "UnstructuredGrid (0x1571d3b80)\n",
       "  N Cells:    10691736\n",
       "  N Points:   11526824\n",
       "  X Bounds:   -2.000e+02, 2.000e+02\n",
       "  Y Bounds:   -2.000e+02, 2.000e+02\n",
       "  Z Bounds:   -2.000e+02, 2.000e+02\n",
       "  N Arrays:   18"
      ]
     },
     "execution_count": 10,
     "metadata": {},
     "output_type": "execute_result"
    }
   ],
   "source": [
    "internal_mesh"
   ]
  },
  {
   "cell_type": "markdown",
   "id": "8c58a483-6867-436c-a124-2b2b5e6d2264",
   "metadata": {},
   "source": [
    "## Slice Mesh to View Aircraft - Plot"
   ]
  },
  {
   "cell_type": "markdown",
   "id": "0000f51d-4314-4387-9fb1-12210ef26433",
   "metadata": {},
   "source": [
    "### Z-slice - move origin"
   ]
  },
  {
   "cell_type": "code",
   "execution_count": 11,
   "id": "bf5d6584-65af-4a09-91a5-e36284b91aa7",
   "metadata": {},
   "outputs": [],
   "source": [
    "## scale velocities based on input patch velocities\n",
    "internal_mesh['U'] = internal_mesh['U'] / boundaries['inlet']['U'][0][0]"
   ]
  },
  {
   "cell_type": "code",
   "execution_count": 12,
   "id": "052931e0-3d5b-4f02-84e2-380adf4a115e",
   "metadata": {},
   "outputs": [
    {
     "data": {
      "text/html": [
       "<table><tr><th>Header</th><th>Data Arrays</th></tr><tr><td>\n",
       "<table>\n",
       "<tr><th>UnstructuredGrid</th><th>Information</th></tr>\n",
       "<tr><td>N Cells</td><td>10691736</td></tr>\n",
       "<tr><td>N Points</td><td>11526824</td></tr>\n",
       "<tr><td>X Bounds</td><td>-2.000e+02, 2.000e+02</td></tr>\n",
       "<tr><td>Y Bounds</td><td>-2.000e+02, 2.000e+02</td></tr>\n",
       "<tr><td>Z Bounds</td><td>-2.000e+02, 2.000e+02</td></tr>\n",
       "<tr><td>N Arrays</td><td>18</td></tr>\n",
       "</table>\n",
       "\n",
       "</td><td>\n",
       "<table>\n",
       "<tr><th>Name</th><th>Field</th><th>Type</th><th>N Comp</th><th>Min</th><th>Max</th></tr>\n",
       "<tr><td>Ma</td><td>Points</td><td>float32</td><td>1</td><td>0.000e+00</td><td>5.085e-01</td></tr>\n",
       "<tr><td>T</td><td>Points</td><td>float32</td><td>1</td><td>2.985e+02</td><td>3.167e+02</td></tr>\n",
       "<tr><td>U</td><td>Points</td><td>float32</td><td>3</td><td>-1.207e+02</td><td>1.687e+02</td></tr>\n",
       "<tr><td>alphat</td><td>Points</td><td>float32</td><td>1</td><td>1.822e-08</td><td>6.188e-01</td></tr>\n",
       "<tr><td>k</td><td>Points</td><td>float32</td><td>1</td><td>4.741e-05</td><td>9.720e+02</td></tr>\n",
       "<tr><td>nut</td><td>Points</td><td>float32</td><td>1</td><td>1.820e-08</td><td>6.076e-01</td></tr>\n",
       "<tr><td>omega</td><td>Points</td><td>float32</td><td>1</td><td>1.190e+00</td><td>4.000e+05</td></tr>\n",
       "<tr><td><b>p</b></td><td>Points</td><td>float32</td><td>1</td><td>7.229e+04</td><td>9.750e+04</td></tr>\n",
       "<tr><td>rho</td><td>Points</td><td>float32</td><td>1</td><td>8.282e-01</td><td>1.083e+00</td></tr>\n",
       "<tr><td>Ma</td><td>Cells</td><td>float32</td><td>1</td><td>1.243e-03</td><td>5.272e-01</td></tr>\n",
       "<tr><td>T</td><td>Cells</td><td>float32</td><td>1</td><td>2.974e+02</td><td>3.175e+02</td></tr>\n",
       "<tr><td>U</td><td>Cells</td><td>float32</td><td>3</td><td>-1.164e+00</td><td>1.434e+00</td></tr>\n",
       "<tr><td>alphat</td><td>Cells</td><td>float32</td><td>1</td><td>1.358e-09</td><td>6.879e-01</td></tr>\n",
       "<tr><td>k</td><td>Cells</td><td>float32</td><td>1</td><td>4.698e-05</td><td>1.146e+03</td></tr>\n",
       "<tr><td>nut</td><td>Cells</td><td>float32</td><td>1</td><td>1.370e-09</td><td>6.752e-01</td></tr>\n",
       "<tr><td>omega</td><td>Cells</td><td>float32</td><td>1</td><td>1.099e+00</td><td>2.660e+04</td></tr>\n",
       "<tr><td><b>p</b></td><td>Cells</td><td>float32</td><td>1</td><td>7.229e+04</td><td>9.812e+04</td></tr>\n",
       "<tr><td>rho</td><td>Cells</td><td>float32</td><td>1</td><td>8.282e-01</td><td>1.097e+00</td></tr>\n",
       "</table>\n",
       "\n",
       "</td></tr> </table>"
      ],
      "text/plain": [
       "UnstructuredGrid (0x1571d3b80)\n",
       "  N Cells:    10691736\n",
       "  N Points:   11526824\n",
       "  X Bounds:   -2.000e+02, 2.000e+02\n",
       "  Y Bounds:   -2.000e+02, 2.000e+02\n",
       "  Z Bounds:   -2.000e+02, 2.000e+02\n",
       "  N Arrays:   18"
      ]
     },
     "execution_count": 12,
     "metadata": {},
     "output_type": "execute_result"
    }
   ],
   "source": [
    "internal_mesh"
   ]
  },
  {
   "cell_type": "code",
   "execution_count": 14,
   "id": "f420b36a-8fde-4270-9545-4d44e12f8ae7",
   "metadata": {},
   "outputs": [
    {
     "name": "stderr",
     "output_type": "stream",
     "text": [
      "\u001b[0m\u001b[33m2023-05-23 22:51:10.048 ( 160.268s) [           40B0D]      vtkPolyhedron.cxx:1742  WARN| A cell with a non-manifold triangulation has been encountered. This cell cannot be contoured.\u001b[0m\n",
      "\u001b[0m\u001b[33m2023-05-23 22:51:10.134 ( 160.354s) [           40B0D]      vtkPolyhedron.cxx:1742  WARN| A cell with a non-manifold triangulation has been encountered. This cell cannot be contoured.\u001b[0m\n"
     ]
    },
    {
     "data": {
      "application/vnd.jupyter.widget-view+json": {
       "model_id": "38f9ccfd0bcc4df98b74f5b2e9b034a1",
       "version_major": 2,
       "version_minor": 0
      },
      "text/plain": [
       "Widget(value=\"<iframe src='http://localhost:57182/index.html?ui=P_0x157228400_1&reconnect=auto' style='width: …"
      ]
     },
     "metadata": {},
     "output_type": "display_data"
    }
   ],
   "source": [
    "slice_mesh2 = slice_center(internal_mesh, NORMAL='z', CONTOUR=False)\n",
    "pt = pv.Plotter()\n",
    "pt.add_mesh(slice_mesh2, scalars='U-normed', preference='cell', cmap='bwr')\n",
    "pt.show(cpos=\"xy\")"
   ]
  },
  {
   "cell_type": "markdown",
   "id": "aea39ca6-8103-4375-a4f6-58143a0520fe",
   "metadata": {},
   "source": [
    "### Ghosting"
   ]
  },
  {
   "cell_type": "code",
   "execution_count": 20,
   "id": "6a8abb8f-b4df-483f-9831-95e0e78c54aa",
   "metadata": {},
   "outputs": [
    {
     "data": {
      "text/plain": [
       "pyvista_ndarray([[ 9.9998313e-01, -1.2729675e-04, -1.5279350e-07],\n",
       "                 [ 9.9998289e-01, -1.2968862e-04, -1.5696264e-07],\n",
       "                 [ 9.9998271e-01, -1.3209645e-04, -1.6117146e-07],\n",
       "                 ...,\n",
       "                 [ 1.0000080e+00, -7.9970857e-07, -2.8634107e-08],\n",
       "                 [ 1.0000085e+00, -9.3770080e-07, -3.0634460e-08],\n",
       "                 [ 1.0000089e+00, -1.0880872e-06, -3.2752350e-08]],\n",
       "                dtype=float32)"
      ]
     },
     "execution_count": 20,
     "metadata": {},
     "output_type": "execute_result"
    }
   ],
   "source": [
    "slice_mesh2['U']"
   ]
  },
  {
   "cell_type": "code",
   "execution_count": 30,
   "id": "5b1e54fd-9dd8-4798-9690-fef702d7cd50",
   "metadata": {},
   "outputs": [
    {
     "data": {
      "text/plain": [
       "pyvista_ndarray([[False,  True,  True],\n",
       "                 [False,  True,  True],\n",
       "                 [False,  True,  True],\n",
       "                 ...,\n",
       "                 [False, False, False],\n",
       "                 [False, False, False],\n",
       "                 [False, False, False]])"
      ]
     },
     "execution_count": 30,
     "metadata": {},
     "output_type": "execute_result"
    }
   ],
   "source": [
    "abs(120 - internal_mesh['U']) == 120"
   ]
  },
  {
   "cell_type": "code",
   "execution_count": 25,
   "id": "0ad33371-697a-42c0-8fc9-b02a92a46b1c",
   "metadata": {},
   "outputs": [
    {
     "data": {
      "text/plain": [
       "array([[    0,     2],\n",
       "       [    1,     2],\n",
       "       [    2,     2],\n",
       "       ...,\n",
       "       [56459,     2],\n",
       "       [56460,     1],\n",
       "       [56460,     2]])"
      ]
     },
     "execution_count": 25,
     "metadata": {},
     "output_type": "execute_result"
    }
   ],
   "source": [
    "np.argwhere(abs(120 - slice_mesh2['U']) == 120)"
   ]
  },
  {
   "cell_type": "code",
   "execution_count": 28,
   "id": "44e11985-fd96-4eef-ab84-11cf67c92ea2",
   "metadata": {},
   "outputs": [
    {
     "data": {
      "text/plain": [
       "array([[    0,     2],\n",
       "       [    1,     2],\n",
       "       [    2,     2],\n",
       "       ...,\n",
       "       [56459,     2],\n",
       "       [56460,     1],\n",
       "       [56460,     2]])"
      ]
     },
     "execution_count": 28,
     "metadata": {},
     "output_type": "execute_result"
    }
   ],
   "source": [
    "## try out `ghosting` to remove all freestream values\n",
    "ghosts = np.argwhere(abs(120 - internal_mesh[\"U\"]) == 120.0)\n",
    "\n",
    "# This will act on the mesh inplace to mark those cell indices as ghosts\n",
    "internal_mesh.remove_cells(ghosts)\n",
    "ghosts"
   ]
  },
  {
   "cell_type": "code",
   "execution_count": null,
   "id": "75539db1-b0ee-46fc-808a-7683ce04d4d0",
   "metadata": {},
   "outputs": [],
   "source": [
    "#slice_mesh2['U'] = slice_mesh2['U'] / boundaries['inlet']['U'][0][0]"
   ]
  },
  {
   "cell_type": "code",
   "execution_count": 31,
   "id": "bf0bb203-0547-4c2d-93bd-b323126bc69f",
   "metadata": {},
   "outputs": [
    {
     "name": "stderr",
     "output_type": "stream",
     "text": [
      "\u001b[0m\u001b[33m2023-05-23 22:59:03.548 ( 633.757s) [           40B0D]      vtkPolyhedron.cxx:1742  WARN| A cell with a non-manifold triangulation has been encountered. This cell cannot be contoured.\u001b[0m\n",
      "\u001b[0m\u001b[33m2023-05-23 22:59:03.630 ( 633.839s) [           40B0D]      vtkPolyhedron.cxx:1742  WARN| A cell with a non-manifold triangulation has been encountered. This cell cannot be contoured.\u001b[0m\n"
     ]
    },
    {
     "data": {
      "application/vnd.jupyter.widget-view+json": {
       "model_id": "13a8ba9b3b794bebb05a78668f737078",
       "version_major": 2,
       "version_minor": 0
      },
      "text/plain": [
       "Widget(value=\"<iframe src='http://localhost:57182/index.html?ui=P_0x3d7835ac0_3&reconnect=auto' style='width: …"
      ]
     },
     "metadata": {},
     "output_type": "display_data"
    }
   ],
   "source": [
    "slice_mesh3 = slice_center(internal_mesh, NORMAL='z', CONTOUR=False)\n",
    "pt = pv.Plotter()\n",
    "pt.add_mesh(slice_mesh3, scalars='U', preference='cell')\n",
    "pt.show(cpos=\"xy\")"
   ]
  },
  {
   "cell_type": "markdown",
   "id": "cc79f59f-4b1e-496a-b422-04529aa7733b",
   "metadata": {},
   "source": [
    "### y-axis slice"
   ]
  },
  {
   "cell_type": "code",
   "execution_count": null,
   "id": "512fcdcf-a744-4db8-875d-6a6d37d740f1",
   "metadata": {},
   "outputs": [],
   "source": [
    "slice3 = slice_center(mesh['internalMesh'], NORMAL='y')"
   ]
  },
  {
   "cell_type": "code",
   "execution_count": null,
   "id": "ed5da186-784c-42cc-b752-8ad34ece8508",
   "metadata": {},
   "outputs": [],
   "source": [
    "slice3 = slice_center(mesh['internalMesh'], NORMAL='y', ORIGIN=[0, 0, 5])\n",
    "pt = pv.Plotter()\n",
    "pt.add_mesh(slice3, scalars='U')\n",
    "pt.show(cpos=\"zx\")"
   ]
  },
  {
   "cell_type": "markdown",
   "id": "c6807990-4bba-47f3-9966-9339b89d5579",
   "metadata": {},
   "source": [
    "### x-slice"
   ]
  },
  {
   "cell_type": "code",
   "execution_count": null,
   "id": "b8359fd4-40c7-4a52-8ff0-4cb6afa776ef",
   "metadata": {},
   "outputs": [],
   "source": [
    "slice4 = slice_center(mesh['internalMesh'], NORMAL='x', ORIGIN=[15, 0, 0], CONTOUR=True)\n",
    "pt = pv.Plotter()\n",
    "pt.add_mesh(slice4, scalars='U', cmap='Blues')\n",
    "pt.show(cpos=\"zy\")"
   ]
  },
  {
   "cell_type": "markdown",
   "id": "fb9f86f7-ed97-436e-a8a4-f8a62e80967e",
   "metadata": {},
   "source": [
    "### Polyslice"
   ]
  },
  {
   "cell_type": "code",
   "execution_count": null,
   "id": "5784dc80-ce0f-433b-afb6-dd34db2f078f",
   "metadata": {},
   "outputs": [],
   "source": [
    "sliceA = slice_multiple(mesh['internalMesh'], NORMAL='z', nslices=10, CONTOUR=True)\n",
    "sliceB = slice_multiple(mesh['internalMesh'], NORMAL='x', nslices=10, CONTOUR=True)\n",
    "sliceB = slice_multiple(mesh['internalMesh'], NORMAL='y', nslices=10, CONTOUR=True)\n",
    "pt = pv.Plotter()\n",
    "pt.add_mesh(sliceA + sliceB + sliceC, scalars='U')\n",
    "pt.show(cpos=\"xy\")"
   ]
  },
  {
   "cell_type": "markdown",
   "id": "0dca97de-729a-4f20-b869-34cb608efdfc",
   "metadata": {},
   "source": [
    "## Thresholding - Not working"
   ]
  },
  {
   "cell_type": "code",
   "execution_count": null,
   "id": "3eac74f3-d45d-4fbf-85a9-67435aac698e",
   "metadata": {},
   "outputs": [],
   "source": [
    "threshed = mesh['internalMesh'].threshold(value=120)"
   ]
  },
  {
   "cell_type": "code",
   "execution_count": null,
   "id": "c3aae2f5-4c83-4e27-a543-bdcf64ee0c63",
   "metadata": {},
   "outputs": [],
   "source": []
  }
 ],
 "metadata": {
  "kernelspec": {
   "display_name": "Python 3 (ipykernel)",
   "language": "python",
   "name": "python3"
  },
  "language_info": {
   "codemirror_mode": {
    "name": "ipython",
    "version": 3
   },
   "file_extension": ".py",
   "mimetype": "text/x-python",
   "name": "python",
   "nbconvert_exporter": "python",
   "pygments_lexer": "ipython3",
   "version": "3.9.16"
  }
 },
 "nbformat": 4,
 "nbformat_minor": 5
}

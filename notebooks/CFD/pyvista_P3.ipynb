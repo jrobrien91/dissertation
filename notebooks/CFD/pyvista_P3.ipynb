{
 "cells": [
  {
   "cell_type": "markdown",
   "id": "0f248c2b-05db-4c41-a3e3-632526eb4c57",
   "metadata": {},
   "source": [
    "# PyVista - NASA P3 Case Directory Read & Analysis"
   ]
  },
  {
   "cell_type": "code",
   "execution_count": 1,
   "id": "fea02177-1dfd-4c0b-9941-a584428f4ef3",
   "metadata": {},
   "outputs": [],
   "source": [
    "import numpy as np\n",
    "import matplotlib.pyplot as plt\n",
    "\n",
    "import pyvista as pv"
   ]
  },
  {
   "cell_type": "markdown",
   "id": "058a36e1-9728-4c2e-a573-8e1b1d0855d5",
   "metadata": {},
   "source": [
    "## Define Helper Functions to Slice the Internal Mesh"
   ]
  },
  {
   "cell_type": "code",
   "execution_count": 2,
   "id": "36a90642-3260-45c6-841d-7b975faad729",
   "metadata": {
    "tags": []
   },
   "outputs": [],
   "source": [
    "def slice_center(mesh, \n",
    "                 NORMAL='z', \n",
    "                 ORIGIN=[0, 0, 0], \n",
    "                 translate=False, \n",
    "                 CONTOUR=False\n",
    "                ):\n",
    "    \"\"\"Slice mesh through center in normal direction, move to zero normal.\"\"\"\n",
    "    slice_mesh = mesh.slice(normal=NORMAL, origin=ORIGIN, contour=CONTOUR)\n",
    "    if translate is not False:\n",
    "        if NORMAL == 'z':\n",
    "            slice_mesh.translate((0, 0, -slice_mesh.center[-1]), inplace=True)\n",
    "        elif NORMAL == 'x':\n",
    "            slice_mesh.translate((-slice.mesh.center[0], 0, 0), inplace=True)\n",
    "        elif NORMAL == 'y':\n",
    "            slice_mesh.translate((0, -slice.mesh.center[1], 0), inplace=True)\n",
    "        else:\n",
    "            print('ERROR: Normal not found - ', NORMAL)\n",
    "            slice_mesh = None\n",
    "    return slice_mesh"
   ]
  },
  {
   "cell_type": "code",
   "execution_count": 3,
   "id": "ce3a8486-f3c6-4492-ab3f-d45a05d12c71",
   "metadata": {},
   "outputs": [],
   "source": [
    "def slice_multiple(mesh, NORMAL='z', nslices=2, CONTOUR=False):\n",
    "    \"\"\"Slice mesh multiple times along specified axis, move to z=0.\"\"\"\n",
    "    slice_mesh = mesh.slice_along_axis(n=nslices, axis=NORMAL, contour=CONTOUR)\n",
    "    #slice_mesh.translate((0, 0, -slice_mesh.center[-1]), inplace=True)\n",
    "    return slice_mesh"
   ]
  },
  {
   "cell_type": "markdown",
   "id": "01188635-1f4e-41ed-a956-ab215727f358",
   "metadata": {},
   "source": [
    "## Define the Case Directory"
   ]
  },
  {
   "cell_type": "code",
   "execution_count": 4,
   "id": "4ba336e7-43cc-4b45-aeda-a06de1dff93e",
   "metadata": {},
   "outputs": [],
   "source": [
    "case_directory = '/Users/jrobrien/Dissertation/data/solutions/NASA_noPylons_v2_tas120_aoa0_900T33/'"
   ]
  },
  {
   "cell_type": "code",
   "execution_count": 5,
   "id": "b1c898b2-9169-4e67-923e-ec0b785e72dc",
   "metadata": {},
   "outputs": [],
   "source": [
    "reader = pv.POpenFOAMReader(case_directory + 'NASA_noPylons_v2_tas120_aoa0_900T33.OpenFOAM')"
   ]
  },
  {
   "cell_type": "markdown",
   "id": "7203975e-a7f3-4567-8f0e-3dc28ed1de9b",
   "metadata": {},
   "source": [
    "### Subset the final run "
   ]
  },
  {
   "cell_type": "code",
   "execution_count": 6,
   "id": "37dbf845-9471-4902-883e-8a2b2047d53a",
   "metadata": {},
   "outputs": [
    {
     "data": {
      "text/plain": [
       "786.0"
      ]
     },
     "execution_count": 6,
     "metadata": {},
     "output_type": "execute_result"
    }
   ],
   "source": [
    "reader.time_values[-1]"
   ]
  },
  {
   "cell_type": "code",
   "execution_count": 7,
   "id": "2689dc63-b962-4814-a0ac-7b903a14a9cf",
   "metadata": {},
   "outputs": [
    {
     "name": "stdout",
     "output_type": "stream",
     "text": [
      "CPU times: user 4.64 s, sys: 698 ms, total: 5.34 s\n",
      "Wall time: 5.31 s\n"
     ]
    }
   ],
   "source": [
    "%%time\n",
    "reader.set_active_time_value(reader.time_values[-1])\n",
    "reader.cell_to_point_creation = True\n",
    "mesh = reader.read()"
   ]
  },
  {
   "cell_type": "markdown",
   "id": "4bd65e02-ddea-4fe3-a38f-43b972d6cc69",
   "metadata": {},
   "source": [
    "### Define the mesh portions"
   ]
  },
  {
   "cell_type": "code",
   "execution_count": 8,
   "id": "bc7b9cec-0e76-4e74-8acd-fa6909c5e03d",
   "metadata": {},
   "outputs": [],
   "source": [
    "internal_mesh = mesh[\"internalMesh\"]\n",
    "boundaries = mesh[\"boundary\"]"
   ]
  },
  {
   "cell_type": "code",
   "execution_count": 9,
   "id": "4330f295-4735-4ccc-a6c1-3eb561ef2037",
   "metadata": {},
   "outputs": [
    {
     "data": {
      "text/plain": [
       "pyvista_ndarray([120.,   0.,   0.], dtype=float32)"
      ]
     },
     "execution_count": 9,
     "metadata": {},
     "output_type": "execute_result"
    }
   ],
   "source": [
    "# inlet velocity\n",
    "boundaries['inlet']['U'][0]"
   ]
  },
  {
   "cell_type": "code",
   "execution_count": 10,
   "id": "635740b9-7aa4-4800-8c36-b6f01ec346c4",
   "metadata": {},
   "outputs": [
    {
     "data": {
      "text/html": [
       "<table><tr><th>Header</th><th>Data Arrays</th></tr><tr><td>\n",
       "<table>\n",
       "<tr><th>UnstructuredGrid</th><th>Information</th></tr>\n",
       "<tr><td>N Cells</td><td>10691736</td></tr>\n",
       "<tr><td>N Points</td><td>11526824</td></tr>\n",
       "<tr><td>X Bounds</td><td>-2.000e+02, 2.000e+02</td></tr>\n",
       "<tr><td>Y Bounds</td><td>-2.000e+02, 2.000e+02</td></tr>\n",
       "<tr><td>Z Bounds</td><td>-2.000e+02, 2.000e+02</td></tr>\n",
       "<tr><td>N Arrays</td><td>18</td></tr>\n",
       "</table>\n",
       "\n",
       "</td><td>\n",
       "<table>\n",
       "<tr><th>Name</th><th>Field</th><th>Type</th><th>N Comp</th><th>Min</th><th>Max</th></tr>\n",
       "<tr><td>Ma</td><td>Points</td><td>float32</td><td>1</td><td>0.000e+00</td><td>5.085e-01</td></tr>\n",
       "<tr><td>T</td><td>Points</td><td>float32</td><td>1</td><td>2.985e+02</td><td>3.167e+02</td></tr>\n",
       "<tr><td>U</td><td>Points</td><td>float32</td><td>3</td><td>-1.207e+02</td><td>1.687e+02</td></tr>\n",
       "<tr><td>alphat</td><td>Points</td><td>float32</td><td>1</td><td>1.822e-08</td><td>6.188e-01</td></tr>\n",
       "<tr><td>k</td><td>Points</td><td>float32</td><td>1</td><td>4.741e-05</td><td>9.720e+02</td></tr>\n",
       "<tr><td>nut</td><td>Points</td><td>float32</td><td>1</td><td>1.820e-08</td><td>6.076e-01</td></tr>\n",
       "<tr><td>omega</td><td>Points</td><td>float32</td><td>1</td><td>1.190e+00</td><td>4.000e+05</td></tr>\n",
       "<tr><td><b>p</b></td><td>Points</td><td>float32</td><td>1</td><td>7.229e+04</td><td>9.750e+04</td></tr>\n",
       "<tr><td>rho</td><td>Points</td><td>float32</td><td>1</td><td>8.282e-01</td><td>1.083e+00</td></tr>\n",
       "<tr><td>Ma</td><td>Cells</td><td>float32</td><td>1</td><td>1.243e-03</td><td>5.272e-01</td></tr>\n",
       "<tr><td>T</td><td>Cells</td><td>float32</td><td>1</td><td>2.974e+02</td><td>3.175e+02</td></tr>\n",
       "<tr><td>U</td><td>Cells</td><td>float32</td><td>3</td><td>-1.396e+02</td><td>1.721e+02</td></tr>\n",
       "<tr><td>alphat</td><td>Cells</td><td>float32</td><td>1</td><td>1.358e-09</td><td>6.879e-01</td></tr>\n",
       "<tr><td>k</td><td>Cells</td><td>float32</td><td>1</td><td>4.698e-05</td><td>1.146e+03</td></tr>\n",
       "<tr><td>nut</td><td>Cells</td><td>float32</td><td>1</td><td>1.370e-09</td><td>6.752e-01</td></tr>\n",
       "<tr><td>omega</td><td>Cells</td><td>float32</td><td>1</td><td>1.099e+00</td><td>2.660e+04</td></tr>\n",
       "<tr><td><b>p</b></td><td>Cells</td><td>float32</td><td>1</td><td>7.229e+04</td><td>9.812e+04</td></tr>\n",
       "<tr><td>rho</td><td>Cells</td><td>float32</td><td>1</td><td>8.282e-01</td><td>1.097e+00</td></tr>\n",
       "</table>\n",
       "\n",
       "</td></tr> </table>"
      ],
      "text/plain": [
       "UnstructuredGrid (0x15443fb80)\n",
       "  N Cells:    10691736\n",
       "  N Points:   11526824\n",
       "  X Bounds:   -2.000e+02, 2.000e+02\n",
       "  Y Bounds:   -2.000e+02, 2.000e+02\n",
       "  Z Bounds:   -2.000e+02, 2.000e+02\n",
       "  N Arrays:   18"
      ]
     },
     "execution_count": 10,
     "metadata": {},
     "output_type": "execute_result"
    }
   ],
   "source": [
    "internal_mesh"
   ]
  },
  {
   "cell_type": "markdown",
   "id": "2aa6ebbd-455c-4e8f-a27e-ae897cc3b8df",
   "metadata": {},
   "source": [
    "## Manipulate the Scalars - Cell Values"
   ]
  },
  {
   "cell_type": "code",
   "execution_count": 11,
   "id": "bf5d6584-65af-4a09-91a5-e36284b91aa7",
   "metadata": {},
   "outputs": [],
   "source": [
    "## scale velocities based on input patch velocities\n",
    "## NOTE: only works on cells!\n",
    "internal_mesh['U'] = internal_mesh['U'] / boundaries['inlet']['U'][0][0]"
   ]
  },
  {
   "cell_type": "code",
   "execution_count": 12,
   "id": "652ed315-1fd5-47ae-807e-62cb64bb9c43",
   "metadata": {},
   "outputs": [
    {
     "data": {
      "text/html": [
       "<table><tr><th>Header</th><th>Data Arrays</th></tr><tr><td>\n",
       "<table>\n",
       "<tr><th>UnstructuredGrid</th><th>Information</th></tr>\n",
       "<tr><td>N Cells</td><td>10691736</td></tr>\n",
       "<tr><td>N Points</td><td>11526824</td></tr>\n",
       "<tr><td>X Bounds</td><td>-2.000e+02, 2.000e+02</td></tr>\n",
       "<tr><td>Y Bounds</td><td>-2.000e+02, 2.000e+02</td></tr>\n",
       "<tr><td>Z Bounds</td><td>-2.000e+02, 2.000e+02</td></tr>\n",
       "<tr><td>N Arrays</td><td>18</td></tr>\n",
       "</table>\n",
       "\n",
       "</td><td>\n",
       "<table>\n",
       "<tr><th>Name</th><th>Field</th><th>Type</th><th>N Comp</th><th>Min</th><th>Max</th></tr>\n",
       "<tr><td>Ma</td><td>Points</td><td>float32</td><td>1</td><td>0.000e+00</td><td>5.085e-01</td></tr>\n",
       "<tr><td>T</td><td>Points</td><td>float32</td><td>1</td><td>2.985e+02</td><td>3.167e+02</td></tr>\n",
       "<tr><td>U</td><td>Points</td><td>float32</td><td>3</td><td>-1.207e+02</td><td>1.687e+02</td></tr>\n",
       "<tr><td>alphat</td><td>Points</td><td>float32</td><td>1</td><td>1.822e-08</td><td>6.188e-01</td></tr>\n",
       "<tr><td>k</td><td>Points</td><td>float32</td><td>1</td><td>4.741e-05</td><td>9.720e+02</td></tr>\n",
       "<tr><td>nut</td><td>Points</td><td>float32</td><td>1</td><td>1.820e-08</td><td>6.076e-01</td></tr>\n",
       "<tr><td>omega</td><td>Points</td><td>float32</td><td>1</td><td>1.190e+00</td><td>4.000e+05</td></tr>\n",
       "<tr><td><b>p</b></td><td>Points</td><td>float32</td><td>1</td><td>7.229e+04</td><td>9.750e+04</td></tr>\n",
       "<tr><td>rho</td><td>Points</td><td>float32</td><td>1</td><td>8.282e-01</td><td>1.083e+00</td></tr>\n",
       "<tr><td>Ma</td><td>Cells</td><td>float32</td><td>1</td><td>1.243e-03</td><td>5.272e-01</td></tr>\n",
       "<tr><td>T</td><td>Cells</td><td>float32</td><td>1</td><td>2.974e+02</td><td>3.175e+02</td></tr>\n",
       "<tr><td>U</td><td>Cells</td><td>float32</td><td>3</td><td>-1.164e+00</td><td>1.434e+00</td></tr>\n",
       "<tr><td>alphat</td><td>Cells</td><td>float32</td><td>1</td><td>1.358e-09</td><td>6.879e-01</td></tr>\n",
       "<tr><td>k</td><td>Cells</td><td>float32</td><td>1</td><td>4.698e-05</td><td>1.146e+03</td></tr>\n",
       "<tr><td>nut</td><td>Cells</td><td>float32</td><td>1</td><td>1.370e-09</td><td>6.752e-01</td></tr>\n",
       "<tr><td>omega</td><td>Cells</td><td>float32</td><td>1</td><td>1.099e+00</td><td>2.660e+04</td></tr>\n",
       "<tr><td><b>p</b></td><td>Cells</td><td>float32</td><td>1</td><td>7.229e+04</td><td>9.812e+04</td></tr>\n",
       "<tr><td>rho</td><td>Cells</td><td>float32</td><td>1</td><td>8.282e-01</td><td>1.097e+00</td></tr>\n",
       "</table>\n",
       "\n",
       "</td></tr> </table>"
      ],
      "text/plain": [
       "UnstructuredGrid (0x15443fb80)\n",
       "  N Cells:    10691736\n",
       "  N Points:   11526824\n",
       "  X Bounds:   -2.000e+02, 2.000e+02\n",
       "  Y Bounds:   -2.000e+02, 2.000e+02\n",
       "  Z Bounds:   -2.000e+02, 2.000e+02\n",
       "  N Arrays:   18"
      ]
     },
     "execution_count": 12,
     "metadata": {},
     "output_type": "execute_result"
    }
   ],
   "source": [
    "internal_mesh"
   ]
  },
  {
   "cell_type": "markdown",
   "id": "8c58a483-6867-436c-a124-2b2b5e6d2264",
   "metadata": {},
   "source": [
    "## Slice Mesh to View Aircraft - Plot"
   ]
  },
  {
   "cell_type": "markdown",
   "id": "0000f51d-4314-4387-9fb1-12210ef26433",
   "metadata": {},
   "source": [
    "### Z-slice - move origin"
   ]
  },
  {
   "cell_type": "code",
   "execution_count": 19,
   "id": "f420b36a-8fde-4270-9545-4d44e12f8ae7",
   "metadata": {
    "tags": []
   },
   "outputs": [
    {
     "name": "stderr",
     "output_type": "stream",
     "text": [
      "\u001b[0m\u001b[33m2023-05-24 22:43:39.222 ( 134.673s) [           297D6]      vtkPolyhedron.cxx:1742  WARN| A cell with a non-manifold triangulation has been encountered. This cell cannot be contoured.\u001b[0m\n",
      "\u001b[0m\u001b[33m2023-05-24 22:43:39.308 ( 134.759s) [           297D6]      vtkPolyhedron.cxx:1742  WARN| A cell with a non-manifold triangulation has been encountered. This cell cannot be contoured.\u001b[0m\n"
     ]
    },
    {
     "data": {
      "application/vnd.jupyter.widget-view+json": {
       "model_id": "42d9eed964c8481180bf27f8bad3cb0a",
       "version_major": 2,
       "version_minor": 0
      },
      "text/plain": [
       "Widget(value=\"<iframe src='http://localhost:55214/index.html?ui=P_0x2dff7cc70_5&reconnect=auto' style='width: …"
      ]
     },
     "metadata": {},
     "output_type": "display_data"
    }
   ],
   "source": [
    "slice_meshA = slice_center(internal_mesh, NORMAL='z', CONTOUR=False)\n",
    "pt = pv.Plotter()\n",
    "# Note: clim setting allows for 1.0 to be neutral gray\n",
    "pt.add_mesh(slice_meshA, scalars='U', preference='cell', cmap='bwr', clim=[0.55, 1.45])\n",
    "pt.show(cpos=\"xy\")"
   ]
  },
  {
   "cell_type": "code",
   "execution_count": null,
   "id": "411dbc99-bbd9-4a02-bcf0-7a384a3dfd76",
   "metadata": {},
   "outputs": [],
   "source": [
    "sliceA_contour = slice_center(internal_mesh, NORMAL='z', CONTOUR=False)\n",
    "pt = pv.Plotter()\n",
    "# Note: clim setting allows for 1.0 to be neutral gray\n",
    "pt.add_mesh(slice_meshA, scalars='U', preference='cell', cmap='bwr', clim=[0.55, 1.45])\n",
    "pt.show(cpos=\"xy\")"
   ]
  },
  {
   "cell_type": "markdown",
   "id": "ee53fc26-91a7-4b57-b769-5637ddff2e9c",
   "metadata": {},
   "source": [
    "## Z-slice - with displaying the Point Values"
   ]
  },
  {
   "cell_type": "code",
   "execution_count": 20,
   "id": "b72f7a03-ac57-4b96-bd28-8deb42146531",
   "metadata": {},
   "outputs": [
    {
     "name": "stderr",
     "output_type": "stream",
     "text": [
      "\u001b[0m\u001b[33m2023-05-24 22:43:55.501 ( 150.952s) [           297D6]      vtkPolyhedron.cxx:1742  WARN| A cell with a non-manifold triangulation has been encountered. This cell cannot be contoured.\u001b[0m\n",
      "\u001b[0m\u001b[33m2023-05-24 22:43:55.587 ( 151.038s) [           297D6]      vtkPolyhedron.cxx:1742  WARN| A cell with a non-manifold triangulation has been encountered. This cell cannot be contoured.\u001b[0m\n"
     ]
    },
    {
     "data": {
      "application/vnd.jupyter.widget-view+json": {
       "model_id": "fd1189ccf3294260a00b1561873a2123",
       "version_major": 2,
       "version_minor": 0
      },
      "text/plain": [
       "Widget(value=\"<iframe src='http://localhost:55214/index.html?ui=P_0x3ce5e4b80_6&reconnect=auto' style='width: …"
      ]
     },
     "metadata": {},
     "output_type": "display_data"
    }
   ],
   "source": [
    "slice_meshB = slice_center(internal_mesh, NORMAL='z', CONTOUR=False)\n",
    "pt = pv.Plotter()\n",
    "# Note: clim setting allows for 1.0 to be neutral gray\n",
    "pt.add_mesh(slice_meshB, scalars='U', preference='point', cmap='bwr', clim=[85, 155])\n",
    "pt.show(cpos=\"xy\")"
   ]
  },
  {
   "cell_type": "markdown",
   "id": "cc79f59f-4b1e-496a-b422-04529aa7733b",
   "metadata": {},
   "source": [
    "### y-axis slice - with change in origin"
   ]
  },
  {
   "cell_type": "code",
   "execution_count": 21,
   "id": "512fcdcf-a744-4db8-875d-6a6d37d740f1",
   "metadata": {},
   "outputs": [],
   "source": [
    "slice3 = slice_center(mesh['internalMesh'], NORMAL='y')"
   ]
  },
  {
   "cell_type": "code",
   "execution_count": 22,
   "id": "ed5da186-784c-42cc-b752-8ad34ece8508",
   "metadata": {},
   "outputs": [
    {
     "data": {
      "application/vnd.jupyter.widget-view+json": {
       "model_id": "772ffde9beb44f68b373d6eea2197a10",
       "version_major": 2,
       "version_minor": 0
      },
      "text/plain": [
       "Widget(value=\"<iframe src='http://localhost:55214/index.html?ui=P_0x3c68f5b80_7&reconnect=auto' style='width: …"
      ]
     },
     "metadata": {},
     "output_type": "display_data"
    }
   ],
   "source": [
    "# Note you can change the origin of the slice\n",
    "slice3 = slice_center(mesh['internalMesh'], NORMAL='y', ORIGIN=[0, 0, 5])\n",
    "pt = pv.Plotter()\n",
    "pt.add_mesh(slice3, scalars='U')\n",
    "pt.show(cpos=\"zx\")"
   ]
  },
  {
   "cell_type": "markdown",
   "id": "c6807990-4bba-47f3-9966-9339b89d5579",
   "metadata": {},
   "source": [
    "### x-slice - with and without contours"
   ]
  },
  {
   "cell_type": "code",
   "execution_count": 17,
   "id": "b8359fd4-40c7-4a52-8ff0-4cb6afa776ef",
   "metadata": {},
   "outputs": [
    {
     "data": {
      "application/vnd.jupyter.widget-view+json": {
       "model_id": "7443e4d65e7447d89cbc211e7a4cb5cf",
       "version_major": 2,
       "version_minor": 0
      },
      "text/plain": [
       "Widget(value=\"<iframe src='http://localhost:55214/index.html?ui=P_0x3c68c7d60_3&reconnect=auto' style='width: …"
      ]
     },
     "metadata": {},
     "output_type": "display_data"
    }
   ],
   "source": [
    "slice4 = slice_center(mesh['internalMesh'], NORMAL='x', ORIGIN=[15, 0, 0], CONTOUR=False)\n",
    "pt = pv.Plotter()\n",
    "pt.add_mesh(slice4, scalars='U', cmap='bwr', clim=[85, 155])\n",
    "pt.show(cpos=\"zy\")"
   ]
  },
  {
   "cell_type": "code",
   "execution_count": 23,
   "id": "ba1bc36c-c101-4daf-b83c-ac45d1d81b86",
   "metadata": {},
   "outputs": [
    {
     "data": {
      "application/vnd.jupyter.widget-view+json": {
       "model_id": "1b45ccfcb77243109289a84f83abdda9",
       "version_major": 2,
       "version_minor": 0
      },
      "text/plain": [
       "Widget(value=\"<iframe src='http://localhost:55214/index.html?ui=P_0x3c68ede20_8&reconnect=auto' style='width: …"
      ]
     },
     "metadata": {},
     "output_type": "display_data"
    }
   ],
   "source": [
    "slice4B = slice_center(mesh['internalMesh'], NORMAL='x', ORIGIN=[15, 0, 0], CONTOUR=True)\n",
    "pt = pv.Plotter()\n",
    "pt.add_mesh(slice4, scalars='U', cmap='bwr', clim=[85, 155])\n",
    "pt.show(cpos=\"zy\")"
   ]
  },
  {
   "cell_type": "markdown",
   "id": "fb9f86f7-ed97-436e-a8a4-f8a62e80967e",
   "metadata": {},
   "source": [
    "### Polyslice (not really helpful here)"
   ]
  },
  {
   "cell_type": "code",
   "execution_count": 24,
   "id": "5784dc80-ce0f-433b-afb6-dd34db2f078f",
   "metadata": {},
   "outputs": [
    {
     "data": {
      "application/vnd.jupyter.widget-view+json": {
       "model_id": "be7d46d4ec3842a4979c770589994638",
       "version_major": 2,
       "version_minor": 0
      },
      "text/plain": [
       "Widget(value=\"<iframe src='http://localhost:55214/index.html?ui=P_0x3c68f8820_9&reconnect=auto' style='width: …"
      ]
     },
     "metadata": {},
     "output_type": "display_data"
    }
   ],
   "source": [
    "sliceA = slice_multiple(mesh['internalMesh'], NORMAL='z', nslices=10, CONTOUR=False)\n",
    "sliceB = slice_multiple(mesh['internalMesh'], NORMAL='x', nslices=10, CONTOUR=False)\n",
    "sliceB = slice_multiple(mesh['internalMesh'], NORMAL='y', nslices=10, CONTOUR=False)\n",
    "pt = pv.Plotter()\n",
    "pt.add_mesh(sliceA, scalars='U')\n",
    "pt.show(cpos=\"xy\")"
   ]
  },
  {
   "cell_type": "markdown",
   "id": "0dca97de-729a-4f20-b869-34cb608efdfc",
   "metadata": {},
   "source": [
    "## Contrasting Solutions"
   ]
  },
  {
   "cell_type": "code",
   "execution_count": null,
   "id": "3eac74f3-d45d-4fbf-85a9-67435aac698e",
   "metadata": {},
   "outputs": [],
   "source": [
    "# Define a Pylon Solution\n",
    "navy_directory = '/Users/jrobrien/Dissertation/data/solutions/NASA_extendedPylon_v2_tas120_aoa0_900T33/'\n",
    "navy = pv.POpenFOAMReader(navy_directory + 'NASA_extendedPylon_v2_tas120_aoa0_900T33.OpenFOAM')"
   ]
  },
  {
   "cell_type": "code",
   "execution_count": null,
   "id": "c3aae2f5-4c83-4e27-a543-bdcf64ee0c63",
   "metadata": {},
   "outputs": [],
   "source": [
    "navy.time_values[-1]"
   ]
  },
  {
   "cell_type": "code",
   "execution_count": null,
   "id": "779a4a17-b4b1-41af-810c-2e865ea114c2",
   "metadata": {},
   "outputs": [],
   "source": [
    "%%time\n",
    "navy.set_active_time_value(navy.time_values[-1])\n",
    "navy.cell_to_point_creation = True\n",
    "navy_mesh = navy.read()"
   ]
  },
  {
   "cell_type": "code",
   "execution_count": null,
   "id": "ec3faa6d-7ed7-4cc4-9124-6c78485d463e",
   "metadata": {},
   "outputs": [],
   "source": [
    "navy_internal = navy_mesh[\"internalMesh\"]\n",
    "navy_boundaries = navy_mesh[\"boundary\"]"
   ]
  },
  {
   "cell_type": "code",
   "execution_count": null,
   "id": "c5a8703e-8a2f-4658-95f4-9f3a1230984d",
   "metadata": {},
   "outputs": [],
   "source": []
  }
 ],
 "metadata": {
  "kernelspec": {
   "display_name": "Python 3 (ipykernel)",
   "language": "python",
   "name": "python3"
  },
  "language_info": {
   "codemirror_mode": {
    "name": "ipython",
    "version": 3
   },
   "file_extension": ".py",
   "mimetype": "text/x-python",
   "name": "python",
   "nbconvert_exporter": "python",
   "pygments_lexer": "ipython3",
   "version": "3.9.16"
  }
 },
 "nbformat": 4,
 "nbformat_minor": 5
}

{
 "cells": [
  {
   "cell_type": "code",
   "execution_count": 1,
   "id": "15a138d4-ef41-4d78-a1b0-80fb286880fe",
   "metadata": {},
   "outputs": [],
   "source": [
    "import pyvista as pv"
   ]
  },
  {
   "cell_type": "code",
   "execution_count": 7,
   "id": "3ef32643-ffc1-49b2-afe4-abd89cc53e1d",
   "metadata": {},
   "outputs": [],
   "source": [
    "mesh = pv.read('/Users/jrobrien/Dissertation/data/pmsCanister/pmsCanister_v8_tas120_aoa0_900T30_part9/VTK/lagrangian/kinematicCloudTracks/kinematicCloudTracks_1000.vtk')"
   ]
  },
  {
   "cell_type": "code",
   "execution_count": 8,
   "id": "ea5e074c-24ed-4bc2-87e4-89fc5ed943eb",
   "metadata": {},
   "outputs": [
    {
     "data": {
      "text/html": [
       "<table><tr><th>Header</th><th>Data Arrays</th></tr><tr><td>\n",
       "<table>\n",
       "<tr><th>PolyData</th><th>Information</th></tr>\n",
       "<tr><td>N Cells</td><td>736601</td></tr>\n",
       "<tr><td>N Points</td><td>736601</td></tr>\n",
       "<tr><td>N Strips</td><td>0</td></tr>\n",
       "<tr><td>X Bounds</td><td>-8.000e+00, 1.000e+01</td></tr>\n",
       "<tr><td>Y Bounds</td><td>-2.260e-01, 3.260e-03</td></tr>\n",
       "<tr><td>Z Bounds</td><td>-1.547e-02, 4.090e-01</td></tr>\n",
       "<tr><td>N Arrays</td><td>12</td></tr>\n",
       "</table>\n",
       "\n",
       "</td><td>\n",
       "<table>\n",
       "<tr><th>Name</th><th>Field</th><th>Type</th><th>N Comp</th><th>Min</th><th>Max</th></tr>\n",
       "<tr><td>active</td><td>Points</td><td>float32</td><td>1</td><td>1.000e+00</td><td>1.000e+00</td></tr>\n",
       "<tr><td>origId</td><td>Points</td><td>float32</td><td>1</td><td>0.000e+00</td><td>5.000e+04</td></tr>\n",
       "<tr><td>typeId</td><td>Points</td><td>float32</td><td>1</td><td>-1.000e+00</td><td>-1.000e+00</td></tr>\n",
       "<tr><td>origProcId</td><td>Points</td><td>float32</td><td>1</td><td>0.000e+00</td><td>0.000e+00</td></tr>\n",
       "<tr><td>d</td><td>Points</td><td>float32</td><td>1</td><td>1.000e-05</td><td>1.000e-05</td></tr>\n",
       "<tr><td>rho</td><td>Points</td><td>float32</td><td>1</td><td>1.000e+03</td><td>1.000e+03</td></tr>\n",
       "<tr><td>dTarget</td><td>Points</td><td>float32</td><td>1</td><td>0.000e+00</td><td>0.000e+00</td></tr>\n",
       "<tr><td>nParticle</td><td>Points</td><td>float32</td><td>1</td><td>1.000e+00</td><td>1.000e+00</td></tr>\n",
       "<tr><td>age</td><td>Points</td><td>float32</td><td>1</td><td>3.391e-02</td><td>2.798e+00</td></tr>\n",
       "<tr><td>tTurb</td><td>Points</td><td>float32</td><td>1</td><td>0.000e+00</td><td>0.000e+00</td></tr>\n",
       "<tr><td>UTurb</td><td>Points</td><td>float32</td><td>3</td><td>0.000e+00</td><td>0.000e+00</td></tr>\n",
       "<tr><td>U</td><td>Points</td><td>float32</td><td>3</td><td>-2.474e+01</td><td>1.447e+02</td></tr>\n",
       "</table>\n",
       "\n",
       "</td></tr> </table>"
      ],
      "text/plain": [
       "PolyData (0x164c35100)\n",
       "  N Cells:    736601\n",
       "  N Points:   736601\n",
       "  N Strips:   0\n",
       "  X Bounds:   -8.000e+00, 1.000e+01\n",
       "  Y Bounds:   -2.260e-01, 3.260e-03\n",
       "  Z Bounds:   -1.547e-02, 4.090e-01\n",
       "  N Arrays:   12"
      ]
     },
     "execution_count": 8,
     "metadata": {},
     "output_type": "execute_result"
    }
   ],
   "source": [
    "mesh"
   ]
  },
  {
   "cell_type": "code",
   "execution_count": 12,
   "id": "0dd6ab7e-47b8-4378-9a33-4d95b61dcb83",
   "metadata": {},
   "outputs": [
    {
     "data": {
      "text/plain": [
       "pyvista_ndarray([[ 1.19999596e+02, -3.04254494e-03,  8.85961254e-06],\n",
       "                 [ 1.19997101e+02, -3.27283237e-03,  2.74000104e-05],\n",
       "                 [ 1.19971527e+02, -6.72470778e-03,  3.59002661e-05],\n",
       "                 ...,\n",
       "                 [ 1.19909615e+02,  1.60176344e-02, -3.10656652e-02],\n",
       "                 [ 1.19922165e+02,  1.39936768e-02, -2.49566231e-02],\n",
       "                 [ 1.19922554e+02,  1.47911366e-02, -2.38614623e-02]],\n",
       "                dtype=float32)"
      ]
     },
     "execution_count": 12,
     "metadata": {},
     "output_type": "execute_result"
    }
   ],
   "source": [
    "mesh['U']"
   ]
  },
  {
   "cell_type": "code",
   "execution_count": 14,
   "id": "68563492-0c1b-40e8-8bfc-17cb40c35afe",
   "metadata": {},
   "outputs": [
    {
     "data": {
      "application/vnd.jupyter.widget-view+json": {
       "model_id": "0031fce9aa714ef5bae0fbfd00fa6555",
       "version_major": 2,
       "version_minor": 0
      },
      "text/plain": [
       "Widget(value=\"<iframe src='http://localhost:56081/index.html?ui=P_0x167f82700_3&reconnect=auto' style='width: …"
      ]
     },
     "metadata": {},
     "output_type": "display_data"
    }
   ],
   "source": [
    "# Create the plotter\n",
    "pt = pv.Plotter()\n",
    "# Add the slice mesh\n",
    "pt.add_mesh(mesh, \n",
    "            scalars='U', \n",
    "            preference='point'\n",
    "           )\n",
    "pt.show()"
   ]
  },
  {
   "cell_type": "code",
   "execution_count": null,
   "id": "d24f3699-3156-4fcf-b9ab-ec36bc892835",
   "metadata": {},
   "outputs": [],
   "source": []
  }
 ],
 "metadata": {
  "kernelspec": {
   "display_name": "Python 3 (ipykernel)",
   "language": "python",
   "name": "python3"
  },
  "language_info": {
   "codemirror_mode": {
    "name": "ipython",
    "version": 3
   },
   "file_extension": ".py",
   "mimetype": "text/x-python",
   "name": "python",
   "nbconvert_exporter": "python",
   "pygments_lexer": "ipython3",
   "version": "3.9.16"
  }
 },
 "nbformat": 4,
 "nbformat_minor": 5
}

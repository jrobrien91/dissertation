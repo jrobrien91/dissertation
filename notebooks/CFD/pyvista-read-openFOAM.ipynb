{
 "cells": [
  {
   "cell_type": "markdown",
   "id": "9f5cf9e4-bf8f-4769-a5ed-70e2bd7cbbfb",
   "metadata": {},
   "source": [
    "# PyVista - Read OpenFOAM Solution Directory\n",
    "- First Attempt at Reading in Entire Solution Directory"
   ]
  },
  {
   "cell_type": "code",
   "execution_count": 1,
   "id": "95ce1cd7-5940-413c-8c80-84f10ef84fb6",
   "metadata": {},
   "outputs": [],
   "source": [
    "import numpy as np\n",
    "import matplotlib.pyplot as plt\n",
    "\n",
    "import pyvista as pv"
   ]
  },
  {
   "cell_type": "markdown",
   "id": "a123e0cb-0074-4975-a555-b69fd19022ea",
   "metadata": {},
   "source": [
    "## Read the OpenFOAM case file"
   ]
  },
  {
   "cell_type": "code",
   "execution_count": 2,
   "id": "c4b0c956-a500-408d-92e8-fa006c8d2e52",
   "metadata": {},
   "outputs": [],
   "source": [
    "case_directory = '/Users/jrobrien/Dissertation/data/pmsCanister/pmsCanister_v8_tas120_aoa0_900T30_part9/'"
   ]
  },
  {
   "cell_type": "code",
   "execution_count": 3,
   "id": "00c43967-c44d-4534-8480-95de704aff20",
   "metadata": {},
   "outputs": [],
   "source": [
    "reader = pv.POpenFOAMReader(case_directory + 'pmsCanister_v8_tas120_aoa0_900T30_part9.OpenFOAM')"
   ]
  },
  {
   "cell_type": "markdown",
   "id": "2c15833f-3fa8-447e-b225-50a17bc75a17",
   "metadata": {},
   "source": [
    "## Inspect the OpenFOAM Case Boundary Conditions"
   ]
  },
  {
   "cell_type": "code",
   "execution_count": 4,
   "id": "3469ed58-a8a6-4930-a6dd-a41416245704",
   "metadata": {},
   "outputs": [
    {
     "name": "stdout",
     "output_type": "stream",
     "text": [
      "Patch Name:  internalMesh\n",
      "Patch Name:  group/freestream\n",
      "Patch Name:  group/pmsCanisterGroup\n",
      "Patch Name:  group/wall\n",
      "Patch Name:  patch/inlet\n",
      "Patch Name:  patch/outlet\n",
      "Patch Name:  patch/frontAndBack\n",
      "Patch Name:  patch/topAndBottom\n",
      "Patch Name:  patch/pmsCanister\n",
      " \n",
      "Patch Status:  internalMesh\n",
      "Patch Status:  group/freestream\n",
      "Patch Status:  group/pmsCanisterGroup\n",
      "Patch Status:  group/wall\n",
      "Patch Status:  patch/inlet\n",
      "Patch Status:  patch/outlet\n",
      "Patch Status:  patch/frontAndBack\n",
      "Patch Status:  patch/topAndBottom\n",
      "Patch Status:  patch/pmsCanister\n"
     ]
    }
   ],
   "source": [
    "for patch in reader.patch_array_names:\n",
    "    print('Patch Name: ', patch)\n",
    "print(\" \")\n",
    "for status in reader.all_patch_arrays_status:\n",
    "    print('Patch Status: ', status)"
   ]
  },
  {
   "cell_type": "markdown",
   "id": "b0853492-a959-4b1b-9a08-f60c5e4afe02",
   "metadata": {},
   "source": [
    "## Read the Mesh into MultBlock object"
   ]
  },
  {
   "cell_type": "code",
   "execution_count": 5,
   "id": "174b3a2e-d596-427a-a17a-05645bba25e3",
   "metadata": {},
   "outputs": [
    {
     "name": "stderr",
     "output_type": "stream",
     "text": [
      "ERROR:root:Error reading line 22 of /Users/jrobrien/Dissertation/data/pmsCanister/pmsCanister_v8_tas120_aoa0_900T30_part9/0/T: Expected number, string or ( for uniform entry, found Tinlet\n",
      "\u001b[0m\u001b[31m2023-05-29 17:03:16.865 (   4.340s) [           4A814]  vtkOpenFOAMReader.cxx:8654   ERR| vtkOpenFOAMReaderPrivate (0x1060ecda0): Error reading line 22 of /Users/jrobrien/Dissertation/data/pmsCanister/pmsCanister_v8_tas120_aoa0_900T30_part9/0/T: Expected number, string or ( for uniform entry, found Tinlet\u001b[0m\n",
      "ERROR:root:Error reading line 21 of /Users/jrobrien/Dissertation/data/pmsCanister/pmsCanister_v8_tas120_aoa0_900T30_part9/0/U: Expected number, string or ( for uniform entry, found Uinlet\n",
      "\u001b[0m\u001b[31m2023-05-29 17:03:16.866 (   4.342s) [           4A814]  vtkOpenFOAMReader.cxx:8654   ERR| vtkOpenFOAMReaderPrivate (0x1060ecda0): Error reading line 21 of /Users/jrobrien/Dissertation/data/pmsCanister/pmsCanister_v8_tas120_aoa0_900T30_part9/0/U: Expected number, string or ( for uniform entry, found Uinlet\u001b[0m\n",
      "ERROR:root:Error reading line 40 of /Users/jrobrien/Dissertation/data/pmsCanister/pmsCanister_v8_tas120_aoa0_900T30_part9/0/alphat: Unsupported directive includeEtc\n",
      "\u001b[0m\u001b[31m2023-05-29 17:03:16.867 (   4.342s) [           4A814]  vtkOpenFOAMReader.cxx:8654   ERR| vtkOpenFOAMReaderPrivate (0x1060ecda0): Error reading line 40 of /Users/jrobrien/Dissertation/data/pmsCanister/pmsCanister_v8_tas120_aoa0_900T30_part9/0/alphat: Unsupported directive includeEtc\u001b[0m\n",
      "ERROR:root:Error reading line 29 of /Users/jrobrien/Dissertation/data/pmsCanister/pmsCanister_v8_tas120_aoa0_900T30_part9/0/k: Expected number, string or ( for uniform entry, found kInlet\n",
      "\u001b[0m\u001b[31m2023-05-29 17:03:16.909 (   4.385s) [           4A814]  vtkOpenFOAMReader.cxx:8654   ERR| vtkOpenFOAMReaderPrivate (0x1060ecda0): Error reading line 29 of /Users/jrobrien/Dissertation/data/pmsCanister/pmsCanister_v8_tas120_aoa0_900T30_part9/0/k: Expected number, string or ( for uniform entry, found kInlet\u001b[0m\n",
      "ERROR:root:Number of cells/points in mesh and field do not match: mesh = 9182, field = 1636 in nSurfaceLayers\n",
      "\u001b[0m\u001b[31m2023-05-29 17:03:16.915 (   4.390s) [           4A814]  vtkOpenFOAMReader.cxx:8741   ERR| vtkOpenFOAMReaderPrivate (0x1060ecda0): Number of cells/points in mesh and field do not match: mesh = 9182, field = 1636 in nSurfaceLayers\u001b[0m\n",
      "ERROR:root:Error reading line 41 of /Users/jrobrien/Dissertation/data/pmsCanister/pmsCanister_v8_tas120_aoa0_900T30_part9/0/nut: Unsupported directive includeEtc\n",
      "\u001b[0m\u001b[31m2023-05-29 17:03:16.916 (   4.392s) [           4A814]  vtkOpenFOAMReader.cxx:8654   ERR| vtkOpenFOAMReaderPrivate (0x1060ecda0): Error reading line 41 of /Users/jrobrien/Dissertation/data/pmsCanister/pmsCanister_v8_tas120_aoa0_900T30_part9/0/nut: Unsupported directive includeEtc\u001b[0m\n",
      "ERROR:root:Error reading line 21 of /Users/jrobrien/Dissertation/data/pmsCanister/pmsCanister_v8_tas120_aoa0_900T30_part9/0/omega: Expected number, string or ( for uniform entry, found omegaInlet\n",
      "\u001b[0m\u001b[31m2023-05-29 17:03:16.917 (   4.392s) [           4A814]  vtkOpenFOAMReader.cxx:8654   ERR| vtkOpenFOAMReaderPrivate (0x1060ecda0): Error reading line 21 of /Users/jrobrien/Dissertation/data/pmsCanister/pmsCanister_v8_tas120_aoa0_900T30_part9/0/omega: Expected number, string or ( for uniform entry, found omegaInlet\u001b[0m\n",
      "ERROR:root:Error reading line 21 of /Users/jrobrien/Dissertation/data/pmsCanister/pmsCanister_v8_tas120_aoa0_900T30_part9/0/p: Expected number, string or ( for uniform entry, found pOut\n",
      "\u001b[0m\u001b[31m2023-05-29 17:03:16.918 (   4.393s) [           4A814]  vtkOpenFOAMReader.cxx:8654   ERR| vtkOpenFOAMReaderPrivate (0x1060ecda0): Error reading line 21 of /Users/jrobrien/Dissertation/data/pmsCanister/pmsCanister_v8_tas120_aoa0_900T30_part9/0/p: Expected number, string or ( for uniform entry, found pOut\u001b[0m\n",
      "ERROR:root:Number of cells/points in mesh and field do not match: mesh = 9182, field = 1636 in thickness\n",
      "\u001b[0m\u001b[31m2023-05-29 17:03:16.923 (   4.399s) [           4A814]  vtkOpenFOAMReader.cxx:8741   ERR| vtkOpenFOAMReaderPrivate (0x1060ecda0): Number of cells/points in mesh and field do not match: mesh = 9182, field = 1636 in thickness\u001b[0m\n",
      "ERROR:root:Number of cells/points in mesh and field do not match: mesh = 9182, field = 1636 in thicknessFraction\n",
      "\u001b[0m\u001b[31m2023-05-29 17:03:16.929 (   4.404s) [           4A814]  vtkOpenFOAMReader.cxx:8741   ERR| vtkOpenFOAMReaderPrivate (0x1060ecda0): Number of cells/points in mesh and field do not match: mesh = 9182, field = 1636 in thicknessFraction\u001b[0m\n"
     ]
    },
    {
     "name": "stdout",
     "output_type": "stream",
     "text": [
      "Mesh patches: ['internalMesh', 'boundary']\n"
     ]
    }
   ],
   "source": [
    "mesh = reader.read()\n",
    "print(f\"Mesh patches: {mesh.keys()}\")\n",
    "internal_mesh = mesh[\"internalMesh\"]  # or internal_mesh = mesh[0]"
   ]
  },
  {
   "cell_type": "code",
   "execution_count": 6,
   "id": "90db7eb7-b66e-4a15-b156-1eff5b786e6b",
   "metadata": {},
   "outputs": [
    {
     "data": {
      "text/html": [
       "<table><tr><th>Information</th><th>Blocks</th></tr><tr><td>\n",
       "<table>\n",
       "<tr><th>MultiBlock</th><th>Values</th></tr>\n",
       "<tr><td>N Blocks</td><td>2</td></tr>\n",
       "<tr><td>X Bounds</td><td>-10.000, 10.000</td></tr>\n",
       "<tr><td>Y Bounds</td><td>-10.000, 10.000</td></tr>\n",
       "<tr><td>Z Bounds</td><td>-10.000, 10.000</td></tr>\n",
       "</table>\n",
       "\n",
       "</td><td>\n",
       "<table>\n",
       "<tr><th>Index</th><th>Name</th><th>Type</th></tr>\n",
       "<tr><th>0</th><th>internalMesh</th><th>UnstructuredGrid</th></tr>\n",
       "<tr><th>1</th><th>boundary</th><th>MultiBlock</th></tr>\n",
       "</table>\n",
       "\n",
       "</td></tr> </table>"
      ],
      "text/plain": [
       "MultiBlock (0x106425d60)\n",
       "  N Blocks:\t2\n",
       "  X Bounds:\t-10.000, 10.000\n",
       "  Y Bounds:\t-10.000, 10.000\n",
       "  Z Bounds:\t-10.000, 10.000"
      ]
     },
     "execution_count": 6,
     "metadata": {},
     "output_type": "execute_result"
    }
   ],
   "source": [
    "mesh"
   ]
  },
  {
   "cell_type": "code",
   "execution_count": 7,
   "id": "877b7a3f-d1e8-4941-ad92-c0b78e6d0d4e",
   "metadata": {},
   "outputs": [
    {
     "data": {
      "text/html": [
       "<table><tr><th>Header</th><th>Data Arrays</th></tr><tr><td>\n",
       "<table>\n",
       "<tr><th>UnstructuredGrid</th><th>Information</th></tr>\n",
       "<tr><td>N Cells</td><td>505114</td></tr>\n",
       "<tr><td>N Points</td><td>542768</td></tr>\n",
       "<tr><td>X Bounds</td><td>-1.000e+01, 1.000e+01</td></tr>\n",
       "<tr><td>Y Bounds</td><td>-1.000e+01, 1.000e+01</td></tr>\n",
       "<tr><td>Z Bounds</td><td>-1.000e+01, 1.000e+01</td></tr>\n",
       "<tr><td>N Arrays</td><td>6</td></tr>\n",
       "</table>\n",
       "\n",
       "</td><td>\n",
       "<table>\n",
       "<tr><th>Name</th><th>Field</th><th>Type</th><th>N Comp</th><th>Min</th><th>Max</th></tr>\n",
       "<tr><td>cellLevel</td><td>Points</td><td>float32</td><td>1</td><td>0.000e+00</td><td>6.000e+00</td></tr>\n",
       "<tr><td>pointLevel</td><td>Points</td><td>float32</td><td>1</td><td>0.000e+00</td><td>6.000e+00</td></tr>\n",
       "<tr><td>cellLevel</td><td>Cells</td><td>float32</td><td>1</td><td>0.000e+00</td><td>6.000e+00</td></tr>\n",
       "<tr><td>nSurfaceLayers</td><td>Cells</td><td>float32</td><td>1</td><td>0.000e+00</td><td>0.000e+00</td></tr>\n",
       "<tr><td>thickness</td><td>Cells</td><td>float32</td><td>1</td><td>0.000e+00</td><td>0.000e+00</td></tr>\n",
       "<tr><td>thicknessFraction</td><td>Cells</td><td>float32</td><td>1</td><td>0.000e+00</td><td>0.000e+00</td></tr>\n",
       "</table>\n",
       "\n",
       "</td></tr> </table>"
      ],
      "text/plain": [
       "UnstructuredGrid (0x1063d1dc0)\n",
       "  N Cells:    505114\n",
       "  N Points:   542768\n",
       "  X Bounds:   -1.000e+01, 1.000e+01\n",
       "  Y Bounds:   -1.000e+01, 1.000e+01\n",
       "  Z Bounds:   -1.000e+01, 1.000e+01\n",
       "  N Arrays:   6"
      ]
     },
     "execution_count": 7,
     "metadata": {},
     "output_type": "execute_result"
    }
   ],
   "source": [
    "internal_mesh"
   ]
  },
  {
   "cell_type": "markdown",
   "id": "5956607a-3939-4a26-a985-a1c54abb60e9",
   "metadata": {},
   "source": [
    "### Inspect the OpenFOAM Case - pmsCanister"
   ]
  },
  {
   "cell_type": "code",
   "execution_count": 8,
   "id": "17d246ca-5ac8-40b9-8a9b-312084907c9b",
   "metadata": {},
   "outputs": [
    {
     "data": {
      "text/html": [
       "<table><tr><th>Information</th><th>Blocks</th></tr><tr><td>\n",
       "<table>\n",
       "<tr><th>MultiBlock</th><th>Values</th></tr>\n",
       "<tr><td>N Blocks</td><td>5</td></tr>\n",
       "<tr><td>X Bounds</td><td>-10.000, 10.000</td></tr>\n",
       "<tr><td>Y Bounds</td><td>-10.000, 10.000</td></tr>\n",
       "<tr><td>Z Bounds</td><td>-10.000, 10.000</td></tr>\n",
       "</table>\n",
       "\n",
       "</td><td>\n",
       "<table>\n",
       "<tr><th>Index</th><th>Name</th><th>Type</th></tr>\n",
       "<tr><th>0</th><th>inlet</th><th>PolyData</th></tr>\n",
       "<tr><th>1</th><th>outlet</th><th>PolyData</th></tr>\n",
       "<tr><th>2</th><th>frontAndBack</th><th>PolyData</th></tr>\n",
       "<tr><th>3</th><th>topAndBottom</th><th>PolyData</th></tr>\n",
       "<tr><th>4</th><th>pmsCanister</th><th>PolyData</th></tr>\n",
       "</table>\n",
       "\n",
       "</td></tr> </table>"
      ],
      "text/plain": [
       "MultiBlock (0x139732520)\n",
       "  N Blocks:\t5\n",
       "  X Bounds:\t-10.000, 10.000\n",
       "  Y Bounds:\t-10.000, 10.000\n",
       "  Z Bounds:\t-10.000, 10.000"
      ]
     },
     "execution_count": 8,
     "metadata": {},
     "output_type": "execute_result"
    }
   ],
   "source": [
    "boundaries = mesh[\"boundary\"]\n",
    "boundaries"
   ]
  },
  {
   "cell_type": "code",
   "execution_count": 9,
   "id": "9290c742-d1cd-4742-85cb-0dac377f44da",
   "metadata": {},
   "outputs": [
    {
     "name": "stdout",
     "output_type": "stream",
     "text": [
      "Boundaries patches: ['inlet', 'outlet', 'frontAndBack', 'topAndBottom', 'pmsCanister']\n"
     ]
    }
   ],
   "source": [
    "print(f\"Boundaries patches: {boundaries.keys()}\")"
   ]
  },
  {
   "cell_type": "code",
   "execution_count": 10,
   "id": "b52b0a22-5fac-49b7-979c-60d71346f98c",
   "metadata": {},
   "outputs": [
    {
     "name": "stdout",
     "output_type": "stream",
     "text": [
      "PolyData (0x139732820)\n",
      "  N Cells:    9182\n",
      "  N Points:   9257\n",
      "  N Strips:   0\n",
      "  X Bounds:   -3.926e-01, 3.926e-01\n",
      "  Y Bounds:   -8.890e-02, 8.890e-02\n",
      "  Z Bounds:   -8.885e-02, 8.885e-02\n",
      "  N Arrays:   3\n",
      "\n"
     ]
    }
   ],
   "source": [
    "print(boundaries[\"pmsCanister\"])"
   ]
  },
  {
   "cell_type": "code",
   "execution_count": 11,
   "id": "3de47cfd-0f71-404f-bea5-64ece7bf4109",
   "metadata": {},
   "outputs": [
    {
     "name": "stdout",
     "output_type": "stream",
     "text": [
      "pyvista DataSetAttributes\n",
      "Association     : CELL\n",
      "Active Scalars  : None\n",
      "Active Vectors  : None\n",
      "Active Texture  : None\n",
      "Active Normals  : None\n",
      "Contains arrays :\n",
      "    cellLevel               float32    (505114,)\n",
      "    nSurfaceLayers          float32    (505114,)\n",
      "    thickness               float32    (505114,)\n",
      "    thicknessFraction       float32    (505114,)\n"
     ]
    }
   ],
   "source": [
    "print(internal_mesh.cell_data)"
   ]
  },
  {
   "cell_type": "code",
   "execution_count": 12,
   "id": "81007ee1-e9d9-4d63-835f-04e2961c8692",
   "metadata": {},
   "outputs": [
    {
     "name": "stdout",
     "output_type": "stream",
     "text": [
      "pyvista DataSetAttributes\n",
      "Association     : POINT\n",
      "Active Scalars  : None\n",
      "Active Vectors  : None\n",
      "Active Texture  : None\n",
      "Active Normals  : None\n",
      "Contains arrays :\n",
      "    cellLevel               float32    (542768,)\n",
      "    pointLevel              float32    (542768,)\n"
     ]
    }
   ],
   "source": [
    "print(internal_mesh.point_data)"
   ]
  },
  {
   "cell_type": "markdown",
   "id": "8aba15ba-9ad4-4085-9925-001403f64183",
   "metadata": {},
   "source": [
    "## Inspect the final time period"
   ]
  },
  {
   "cell_type": "code",
   "execution_count": 13,
   "id": "1d7cb725-5216-4156-893f-79a22aa0b762",
   "metadata": {},
   "outputs": [
    {
     "data": {
      "text/plain": [
       "[0.0,\n",
       " 50.0,\n",
       " 100.0,\n",
       " 150.0,\n",
       " 200.0,\n",
       " 250.0,\n",
       " 300.0,\n",
       " 350.0,\n",
       " 400.0,\n",
       " 450.0,\n",
       " 500.0,\n",
       " 550.0,\n",
       " 583.0,\n",
       " 600.0,\n",
       " 650.0,\n",
       " 700.0,\n",
       " 750.0,\n",
       " 800.0,\n",
       " 850.0,\n",
       " 900.0,\n",
       " 950.0,\n",
       " 1000.0]"
      ]
     },
     "execution_count": 13,
     "metadata": {},
     "output_type": "execute_result"
    }
   ],
   "source": [
    "reader.time_values"
   ]
  },
  {
   "cell_type": "code",
   "execution_count": 14,
   "id": "06b3d01a-bdc5-43f7-bd51-cab3900c61b5",
   "metadata": {},
   "outputs": [
    {
     "name": "stderr",
     "output_type": "stream",
     "text": [
      "\u001b[0m\u001b[31m2023-05-29 17:03:31.207 (  18.682s) [           4A814]  vtkOpenFOAMReader.cxx:9790   ERR| vtkOpenFOAMReaderPrivate (0x1060ecda0): Error reading line 20 of /Users/jrobrien/Dissertation/data/pmsCanister/pmsCanister_v8_tas120_aoa0_900T30_part9/1000/lagrangian/kinematicCloudTracks/positions: Expected punctuation token ')', found \u0019\u001b[0m\n",
      "ERROR:root:Error reading line 20 of /Users/jrobrien/Dissertation/data/pmsCanister/pmsCanister_v8_tas120_aoa0_900T30_part9/1000/lagrangian/kinematicCloudTracks/positions: Expected punctuation token ')', found \u0019\n"
     ]
    }
   ],
   "source": [
    "reader.set_active_time_value(1000.0)\n",
    "reader.cell_to_point_creation = True\n",
    "mesh = reader.read()"
   ]
  },
  {
   "cell_type": "code",
   "execution_count": 15,
   "id": "db3fc7fd-ee4d-462a-b3ff-a865974a41ee",
   "metadata": {},
   "outputs": [],
   "source": [
    "internal_mesh = mesh[\"internalMesh\"]\n",
    "boundaries = mesh[\"boundary\"]"
   ]
  },
  {
   "cell_type": "markdown",
   "id": "8d114555-f16d-49af-b611-216e9967193f",
   "metadata": {},
   "source": [
    "## Define helper functions"
   ]
  },
  {
   "cell_type": "code",
   "execution_count": 16,
   "id": "f8db8b25-e60e-4509-98e3-b28cbc161927",
   "metadata": {},
   "outputs": [],
   "source": [
    "def slice_z_center(mesh):\n",
    "    \"\"\"Slice mesh through center in z normal direction, move to z=0.\"\"\"\n",
    "    slice_mesh = mesh.slice(normal='z')\n",
    "    slice_mesh.translate((0, 0, -slice_mesh.center[-1]), inplace=True)\n",
    "    return slice_mesh\n",
    "\n",
    "\n",
    "slice_internal_mesh = slice_z_center(internal_mesh)\n",
    "slice_boundaries = pv.MultiBlock({key: slice_z_center(boundaries[key]) for key in boundaries.keys()})"
   ]
  },
  {
   "cell_type": "code",
   "execution_count": 17,
   "id": "177e90a6-da57-48cc-a814-a874a5623d55",
   "metadata": {},
   "outputs": [
    {
     "data": {
      "text/html": [
       "<table><tr><th>Information</th><th>Blocks</th></tr><tr><td>\n",
       "<table>\n",
       "<tr><th>MultiBlock</th><th>Values</th></tr>\n",
       "<tr><td>N Blocks</td><td>5</td></tr>\n",
       "<tr><td>X Bounds</td><td>-10.000, 10.000</td></tr>\n",
       "<tr><td>Y Bounds</td><td>-10.000, 10.000</td></tr>\n",
       "<tr><td>Z Bounds</td><td>-0.000, 0.000</td></tr>\n",
       "</table>\n",
       "\n",
       "</td><td>\n",
       "<table>\n",
       "<tr><th>Index</th><th>Name</th><th>Type</th></tr>\n",
       "<tr><th>0</th><th>inlet</th><th>PolyData</th></tr>\n",
       "<tr><th>1</th><th>outlet</th><th>PolyData</th></tr>\n",
       "<tr><th>2</th><th>frontAndBack</th><th>PolyData</th></tr>\n",
       "<tr><th>3</th><th>topAndBottom</th><th>PolyData</th></tr>\n",
       "<tr><th>4</th><th>pmsCanister</th><th>PolyData</th></tr>\n",
       "</table>\n",
       "\n",
       "</td></tr> </table>"
      ],
      "text/plain": [
       "MultiBlock (0x13970fee0)\n",
       "  N Blocks:\t5\n",
       "  X Bounds:\t-10.000, 10.000\n",
       "  Y Bounds:\t-10.000, 10.000\n",
       "  Z Bounds:\t-0.000, 0.000"
      ]
     },
     "execution_count": 17,
     "metadata": {},
     "output_type": "execute_result"
    }
   ],
   "source": [
    "slice_boundaries"
   ]
  },
  {
   "cell_type": "code",
   "execution_count": 18,
   "id": "c5d8cbb8-42fa-4a4c-91da-ba90c8c6db4f",
   "metadata": {},
   "outputs": [
    {
     "data": {
      "text/html": [
       "<table><tr><th>Header</th><th>Data Arrays</th></tr><tr><td>\n",
       "<table>\n",
       "<tr><th>PolyData</th><th>Information</th></tr>\n",
       "<tr><td>N Cells</td><td>3529</td></tr>\n",
       "<tr><td>N Points</td><td>6614</td></tr>\n",
       "<tr><td>N Strips</td><td>0</td></tr>\n",
       "<tr><td>X Bounds</td><td>-1.000e+01, 1.000e+01</td></tr>\n",
       "<tr><td>Y Bounds</td><td>-1.000e+01, 1.000e+01</td></tr>\n",
       "<tr><td>Z Bounds</td><td>-4.843e-07, 4.843e-07</td></tr>\n",
       "<tr><td>N Arrays</td><td>24</td></tr>\n",
       "</table>\n",
       "\n",
       "</td><td>\n",
       "<table>\n",
       "<tr><th>Name</th><th>Field</th><th>Type</th><th>N Comp</th><th>Min</th><th>Max</th></tr>\n",
       "<tr><td>Ma</td><td>Points</td><td>float32</td><td>1</td><td>0.000e+00</td><td>4.538e-01</td></tr>\n",
       "<tr><td>T</td><td>Points</td><td>float32</td><td>1</td><td>2.980e+02</td><td>3.098e+02</td></tr>\n",
       "<tr><td>U</td><td>Points</td><td>float32</td><td>3</td><td>-7.009e+01</td><td>1.544e+02</td></tr>\n",
       "<tr><td>alphat</td><td>Points</td><td>float32</td><td>1</td><td>0.000e+00</td><td>2.188e-02</td></tr>\n",
       "<tr><td>k</td><td>Points</td><td>float32</td><td>1</td><td>8.693e-03</td><td>1.267e+02</td></tr>\n",
       "<tr><td>nut</td><td>Points</td><td>float32</td><td>1</td><td>0.000e+00</td><td>2.136e-02</td></tr>\n",
       "<tr><td>omega</td><td>Points</td><td>float32</td><td>1</td><td>8.791e+00</td><td>1.566e+04</td></tr>\n",
       "<tr><td><b>p</b></td><td>Points</td><td>float32</td><td>1</td><td>8.305e+04</td><td>9.747e+04</td></tr>\n",
       "<tr><td>rho</td><td>Points</td><td>float32</td><td>1</td><td>9.527e-01</td><td>1.118e+00</td></tr>\n",
       "<tr><td>total(p)</td><td>Points</td><td>float32</td><td>1</td><td>8.305e+04</td><td>9.814e+04</td></tr>\n",
       "<tr><td>kinematicCloud:UCoeff</td><td>Points</td><td>float32</td><td>1</td><td>0.000e+00</td><td>0.000e+00</td></tr>\n",
       "<tr><td>kinematicCloud:UTrans</td><td>Points</td><td>float32</td><td>3</td><td>0.000e+00</td><td>0.000e+00</td></tr>\n",
       "<tr><td>Ma</td><td>Cells</td><td>float32</td><td>1</td><td>2.068e-02</td><td>4.612e-01</td></tr>\n",
       "<tr><td>T</td><td>Cells</td><td>float32</td><td>1</td><td>2.976e+02</td><td>3.100e+02</td></tr>\n",
       "<tr><td>U</td><td>Cells</td><td>float32</td><td>3</td><td>-7.619e+01</td><td>1.569e+02</td></tr>\n",
       "<tr><td>alphat</td><td>Cells</td><td>float32</td><td>1</td><td>7.292e-08</td><td>2.543e-02</td></tr>\n",
       "<tr><td>k</td><td>Cells</td><td>float32</td><td>1</td><td>8.693e-03</td><td>1.950e+02</td></tr>\n",
       "<tr><td>nut</td><td>Cells</td><td>float32</td><td>1</td><td>7.596e-08</td><td>2.494e-02</td></tr>\n",
       "<tr><td>omega</td><td>Cells</td><td>float32</td><td>1</td><td>8.791e+00</td><td>1.748e+04</td></tr>\n",
       "<tr><td><b>p</b></td><td>Cells</td><td>float32</td><td>1</td><td>8.289e+04</td><td>9.747e+04</td></tr>\n",
       "<tr><td>rho</td><td>Cells</td><td>float32</td><td>1</td><td>9.595e-01</td><td>1.093e+00</td></tr>\n",
       "<tr><td>total(p)</td><td>Cells</td><td>float32</td><td>1</td><td>8.929e+04</td><td>9.881e+04</td></tr>\n",
       "<tr><td>kinematicCloud:UCoeff</td><td>Cells</td><td>float32</td><td>1</td><td>0.000e+00</td><td>0.000e+00</td></tr>\n",
       "<tr><td>kinematicCloud:UTrans</td><td>Cells</td><td>float32</td><td>3</td><td>0.000e+00</td><td>0.000e+00</td></tr>\n",
       "</table>\n",
       "\n",
       "</td></tr> </table>"
      ],
      "text/plain": [
       "PolyData (0x1397321c0)\n",
       "  N Cells:    3529\n",
       "  N Points:   6614\n",
       "  N Strips:   0\n",
       "  X Bounds:   -1.000e+01, 1.000e+01\n",
       "  Y Bounds:   -1.000e+01, 1.000e+01\n",
       "  Z Bounds:   -4.843e-07, 4.843e-07\n",
       "  N Arrays:   24"
      ]
     },
     "execution_count": 18,
     "metadata": {},
     "output_type": "execute_result"
    }
   ],
   "source": [
    "slice_internal_mesh"
   ]
  },
  {
   "cell_type": "code",
   "execution_count": 19,
   "id": "cb7585d4-e7b3-4ccd-84a6-1674f89eb9af",
   "metadata": {},
   "outputs": [
    {
     "name": "stderr",
     "output_type": "stream",
     "text": [
      "ERROR:root:vtkEvenlySpacedStreamlines2D does not support planes not aligned with XY.\n",
      "\u001b[0m\u001b[31m2023-05-29 17:03:37.017 (  24.492s) [           4A814]vtkEvenlySpacedStreamli:123    ERR| vtkEvenlySpacedStreamlines2D (0x109d156a0): vtkEvenlySpacedStreamlines2D does not support planes not aligned with XY.\u001b[0m\n",
      "ERROR:root:Algorithm vtkEvenlySpacedStreamlines2D (0x109d156a0) returned failure for request: vtkInformation (0x6000004ef600)\n",
      "\u001b[0m\u001b[31m2023-05-29 17:03:37.018 (  24.493s) [           4A814]       vtkExecutive.cxx:741    ERR| vtkCompositeDataPipeline (0x600001ca4500): Algorithm vtkEvenlySpacedStreamlines2D (0x109d156a0) returned failure for request: vtkInformation (0x6000004ef600)\n",
      "  Debug: Off\n",
      "  Modified Time: 84264\n",
      "  Reference Count: 1\n",
      "  Registered Events: (none)\n",
      "  Request: REQUEST_DATA\n",
      "  FROM_OUTPUT_PORT: 0\n",
      "  ALGORITHM_AFTER_FORWARD: 1\n",
      "  FORWARD_DIRECTION: 0\n",
      "\n",
      "\u001b[0m\n"
     ]
    }
   ],
   "source": [
    "streamlines = slice_internal_mesh.streamlines_evenly_spaced_2D(\n",
    "    vectors='U',\n",
    "    start_position=(-1, 0.5, 0),\n",
    "    separating_distance=1,\n",
    "    separating_distance_ratio=0.1,\n",
    ")"
   ]
  },
  {
   "cell_type": "code",
   "execution_count": 20,
   "id": "62b804a0-939f-4498-8e65-8823a965565b",
   "metadata": {},
   "outputs": [
    {
     "data": {
      "application/vnd.jupyter.widget-view+json": {
       "model_id": "04d0ca50ddec431ea17a1d1c41dce6b8",
       "version_major": 2,
       "version_minor": 0
      },
      "text/plain": [
       "Widget(value=\"<iframe src='http://localhost:49799/index.html?ui=P_0x139735f70_0&reconnect=auto' style='width: …"
      ]
     },
     "metadata": {},
     "output_type": "display_data"
    }
   ],
   "source": [
    "plotter = pv.Plotter()\n",
    "plotter.add_mesh(slice_boundaries[\"pmsCanister\"], color='red', line_width=3)\n",
    "plotter.add_mesh(slice_boundaries[\"inlet\"], color='black', line_width=1)\n",
    "plotter.add_mesh(slice_boundaries[\"outlet\"], color='black', line_width=1)\n",
    "#plotter.add_mesh(slice_boundaries[\"frontAndBack\"], color='black', line_width=1)\n",
    "plotter.add_mesh(slice_boundaries[\"topAndBottom\"], color='black', line_width=1)\n",
    "#plotter.add_mesh(slice_boundaries[\"fixedWalls\"], color='black', line_width=3)\n",
    "#plotter.add_mesh(streamlines.tube(radius=0.0005), scalars=\"U\")\n",
    "plotter.view_xy()\n",
    "#plotter.enable_parallel_projection()\n",
    "plotter.show()"
   ]
  },
  {
   "cell_type": "code",
   "execution_count": 22,
   "id": "a395f256-43f2-4f4a-bad5-5d51f1902f70",
   "metadata": {},
   "outputs": [
    {
     "data": {
      "application/vnd.jupyter.widget-view+json": {
       "model_id": "98c17ed201034d7f9c850b5c2ac893d9",
       "version_major": 2,
       "version_minor": 0
      },
      "text/plain": [
       "Widget(value=\"<iframe src='http://localhost:49799/index.html?ui=P_0x28ffcdeb0_2&reconnect=auto' style='width: …"
      ]
     },
     "metadata": {},
     "output_type": "display_data"
    }
   ],
   "source": [
    "pt = pv.Plotter()\n",
    "pt.add_mesh(slice_internal_mesh)\n",
    "pt.show(cpos='xy')"
   ]
  },
  {
   "cell_type": "code",
   "execution_count": null,
   "id": "1a11486b-3da2-46fa-9862-c57c55995510",
   "metadata": {},
   "outputs": [],
   "source": []
  }
 ],
 "metadata": {
  "kernelspec": {
   "display_name": "Python 3 (ipykernel)",
   "language": "python",
   "name": "python3"
  },
  "language_info": {
   "codemirror_mode": {
    "name": "ipython",
    "version": 3
   },
   "file_extension": ".py",
   "mimetype": "text/x-python",
   "name": "python",
   "nbconvert_exporter": "python",
   "pygments_lexer": "ipython3",
   "version": "3.9.16"
  }
 },
 "nbformat": 4,
 "nbformat_minor": 5
}

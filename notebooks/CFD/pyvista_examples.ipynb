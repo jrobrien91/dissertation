{
 "cells": [
  {
   "cell_type": "markdown",
   "id": "2f5cd179-5d30-4616-a7e0-c4a20f61179f",
   "metadata": {},
   "source": [
    "# Pyvista examples"
   ]
  },
  {
   "cell_type": "code",
   "execution_count": 1,
   "id": "fbb05240-19b1-47f8-a551-3a2626a82c9c",
   "metadata": {},
   "outputs": [],
   "source": [
    "from matplotlib.colors import ListedColormap\n",
    "import matplotlib.pyplot as plt\n",
    "import numpy as np\n",
    "\n",
    "import pyvista as pv\n",
    "from pyvista import examples"
   ]
  },
  {
   "cell_type": "markdown",
   "id": "afa2f5c1-0961-4932-9db1-c76f920aae8b",
   "metadata": {},
   "source": [
    "## Playing Around with Colormaps"
   ]
  },
  {
   "cell_type": "code",
   "execution_count": 2,
   "id": "cad5790f-4eeb-4749-8b73-65a549250dc7",
   "metadata": {},
   "outputs": [],
   "source": [
    "mesh = examples.download_st_helens().warp_by_scalar()\n",
    "# Add scalar array with range (0, 100) that correlates with elevation\n",
    "#mesh['values'] = pv.plotting.normalize(mesh['Elevation']) * 100\n",
    "mesh['values'] = pv.plotting.normalize(mesh['Elevation']) * 100"
   ]
  },
  {
   "cell_type": "code",
   "execution_count": 3,
   "id": "28afbced-7c13-46d7-a492-2c15fd3493ab",
   "metadata": {},
   "outputs": [],
   "source": [
    "# Define the colors we want to use\n",
    "blue = np.array([12 / 256, 238 / 256, 246 / 256, 1.0])\n",
    "black = np.array([11 / 256, 11 / 256, 11 / 256, 1.0])\n",
    "grey = np.array([189 / 256, 189 / 256, 189 / 256, 1.0])\n",
    "yellow = np.array([255 / 256, 247 / 256, 0 / 256, 1.0])\n",
    "red = np.array([1.0, 0.0, 0.0, 1.0])\n",
    "\n",
    "mapping = np.linspace(mesh['values'].min(), mesh['values'].max(), 256)\n",
    "newcolors = np.empty((256, 4))\n",
    "newcolors[mapping >= 80] = red\n",
    "newcolors[mapping < 80] = grey\n",
    "newcolors[mapping < 55] = yellow\n",
    "newcolors[mapping < 30] = blue\n",
    "newcolors[mapping < 1] = black\n",
    "\n",
    "# Make the colormap from the listed colors\n",
    "my_colormap = ListedColormap(newcolors)"
   ]
  },
  {
   "cell_type": "code",
   "execution_count": 4,
   "id": "99303210-f736-4076-bec1-9fd2093401f2",
   "metadata": {},
   "outputs": [
    {
     "data": {
      "application/vnd.jupyter.widget-view+json": {
       "model_id": "d89775eb41cd410896a3601f942fe549",
       "version_major": 2,
       "version_minor": 0
      },
      "text/plain": [
       "Widget(value=\"<iframe src='http://localhost:62731/index.html?ui=P_0x15625cc10_0&reconnect=auto' style='width: …"
      ]
     },
     "metadata": {},
     "output_type": "display_data"
    }
   ],
   "source": [
    "mesh.plot(scalars='values', cmap=my_colormap)"
   ]
  },
  {
   "cell_type": "markdown",
   "id": "b2425c37-20ce-41fe-9e9d-9d3476e133ee",
   "metadata": {},
   "source": [
    "## Read OpenFOAM Example"
   ]
  },
  {
   "cell_type": "code",
   "execution_count": 5,
   "id": "993bbdb9-2b2a-4f0c-b4be-6c819792b246",
   "metadata": {},
   "outputs": [],
   "source": [
    "filename = examples.download_cavity(load=False)\n",
    "reader = pv.POpenFOAMReader(filename)"
   ]
  },
  {
   "cell_type": "code",
   "execution_count": 6,
   "id": "9db90411-abb4-4436-8d22-5c0261daea06",
   "metadata": {},
   "outputs": [
    {
     "name": "stdout",
     "output_type": "stream",
     "text": [
      "All patch names: ['internalMesh', 'patch/movingWall', 'patch/fixedWalls', 'patch/frontAndBack']\n",
      "All patch status: {'internalMesh': True, 'patch/movingWall': True, 'patch/fixedWalls': True, 'patch/frontAndBack': True}\n"
     ]
    }
   ],
   "source": [
    "print(f\"All patch names: {reader.patch_array_names}\")\n",
    "print(f\"All patch status: {reader.all_patch_arrays_status}\")"
   ]
  },
  {
   "cell_type": "code",
   "execution_count": 7,
   "id": "498c333d-d574-4303-a99a-0f1ba03b8a21",
   "metadata": {},
   "outputs": [
    {
     "name": "stdout",
     "output_type": "stream",
     "text": [
      "Mesh patches: ['internalMesh', 'boundary']\n"
     ]
    }
   ],
   "source": [
    "mesh = reader.read()\n",
    "print(f\"Mesh patches: {mesh.keys()}\")\n",
    "internal_mesh = mesh[\"internalMesh\"]  # or internal_mesh = mesh[0]"
   ]
  },
  {
   "cell_type": "code",
   "execution_count": 8,
   "id": "0b74dc17-35a0-4d1c-b000-3ca52c531582",
   "metadata": {},
   "outputs": [
    {
     "name": "stdout",
     "output_type": "stream",
     "text": [
      "UnstructuredGrid (0x156d170a0)\n",
      "  N Cells:    400\n",
      "  N Points:   882\n",
      "  X Bounds:   0.000e+00, 1.000e-01\n",
      "  Y Bounds:   0.000e+00, 1.000e-01\n",
      "  Z Bounds:   0.000e+00, 1.000e-02\n",
      "  N Arrays:   4\n",
      "\n"
     ]
    }
   ],
   "source": [
    "print(internal_mesh)"
   ]
  },
  {
   "cell_type": "code",
   "execution_count": 9,
   "id": "514692cc-547d-429e-b7d1-d46d4e54ce1e",
   "metadata": {},
   "outputs": [
    {
     "name": "stdout",
     "output_type": "stream",
     "text": [
      "MultiBlock (0x156d17940)\n",
      "  N Blocks:\t3\n",
      "  X Bounds:\t0.000, 0.100\n",
      "  Y Bounds:\t0.000, 0.100\n",
      "  Z Bounds:\t0.000, 0.010\n",
      "\n",
      "Boundaries patches: ['movingWall', 'fixedWalls', 'frontAndBack']\n",
      "PolyData (0x156d17c40)\n",
      "  N Cells:    20\n",
      "  N Points:   42\n",
      "  N Strips:   0\n",
      "  X Bounds:   0.000e+00, 1.000e-01\n",
      "  Y Bounds:   1.000e-01, 1.000e-01\n",
      "  Z Bounds:   0.000e+00, 1.000e-02\n",
      "  N Arrays:   4\n",
      "\n"
     ]
    }
   ],
   "source": [
    "boundaries = mesh[\"boundary\"]\n",
    "print(boundaries)\n",
    "print(f\"Boundaries patches: {boundaries.keys()}\")\n",
    "print(boundaries[\"movingWall\"])"
   ]
  },
  {
   "cell_type": "code",
   "execution_count": 10,
   "id": "cd19d0d0-2b79-4220-a9ca-61fbde7bec54",
   "metadata": {},
   "outputs": [
    {
     "name": "stdout",
     "output_type": "stream",
     "text": [
      "Cell Data:\n",
      "pyvista DataSetAttributes\n",
      "Association     : CELL\n",
      "Active Scalars  : p\n",
      "Active Vectors  : U\n",
      "Active Texture  : None\n",
      "Active Normals  : None\n",
      "Contains arrays :\n",
      "    U                       float32    (400, 3)             VECTORS\n",
      "    p                       float32    (400,)               SCALARS\n",
      "\n",
      "Point Data:\n",
      "pyvista DataSetAttributes\n",
      "Association     : POINT\n",
      "Active Scalars  : p\n",
      "Active Vectors  : U\n",
      "Active Texture  : None\n",
      "Active Normals  : None\n",
      "Contains arrays :\n",
      "    U                       float32    (882, 3)             VECTORS\n",
      "    p                       float32    (882,)               SCALARS\n"
     ]
    }
   ],
   "source": [
    "print(\"Cell Data:\")\n",
    "print(internal_mesh.cell_data)\n",
    "print(\"\\nPoint Data:\")\n",
    "print(internal_mesh.point_data)"
   ]
  },
  {
   "cell_type": "code",
   "execution_count": 11,
   "id": "15832e78-67a3-4646-a926-1744950fb5fa",
   "metadata": {},
   "outputs": [
    {
     "name": "stdout",
     "output_type": "stream",
     "text": [
      "Cell Data:\n",
      "pyvista DataSetAttributes\n",
      "Association     : CELL\n",
      "Active Scalars  : p\n",
      "Active Vectors  : U\n",
      "Active Texture  : None\n",
      "Active Normals  : None\n",
      "Contains arrays :\n",
      "    U                       float32    (400, 3)             VECTORS\n",
      "    p                       float32    (400,)               SCALARS\n",
      "\n",
      "Point Data:\n",
      "pyvista DataSetAttributes\n",
      "Association     : POINT\n",
      "Active Scalars  : None\n",
      "Active Vectors  : None\n",
      "Active Texture  : None\n",
      "Active Normals  : None\n",
      "Contains arrays : None\n"
     ]
    }
   ],
   "source": [
    "reader.cell_to_point_creation = False\n",
    "internal_mesh = reader.read()[\"internalMesh\"]\n",
    "print(\"Cell Data:\")\n",
    "print(internal_mesh.cell_data)\n",
    "print(\"\\nPoint Data:\")\n",
    "print(internal_mesh.point_data)"
   ]
  },
  {
   "cell_type": "code",
   "execution_count": 12,
   "id": "9339c2e8-2a30-4ea9-989a-0b77e9935317",
   "metadata": {},
   "outputs": [
    {
     "name": "stdout",
     "output_type": "stream",
     "text": [
      "Available Time Values: [0.0, 0.5, 1.0, 1.5, 2.0, 2.5]\n"
     ]
    }
   ],
   "source": [
    "print(f\"Available Time Values: {reader.time_values}\")\n",
    "reader.set_active_time_value(2.5)\n",
    "reader.cell_to_point_creation = True  # Need point data for streamlines\n",
    "mesh = reader.read()\n",
    "internal_mesh = mesh[\"internalMesh\"]\n",
    "boundaries = mesh[\"boundary\"]"
   ]
  },
  {
   "cell_type": "code",
   "execution_count": 13,
   "id": "7df8d0ab-ee1b-4e6a-907a-59246bdec565",
   "metadata": {},
   "outputs": [],
   "source": [
    "def slice_z_center(mesh):\n",
    "    \"\"\"Slice mesh through center in z normal direction, move to z=0.\"\"\"\n",
    "    slice_mesh = mesh.slice(normal='z')\n",
    "    slice_mesh.translate((0, 0, -slice_mesh.center[-1]), inplace=True)\n",
    "    return slice_mesh\n",
    "\n",
    "\n",
    "slice_internal_mesh = slice_z_center(internal_mesh)\n",
    "slice_boundaries = pv.MultiBlock(\n",
    "    {key: slice_z_center(boundaries[key]) for key in boundaries.keys()}\n",
    ")"
   ]
  },
  {
   "cell_type": "code",
   "execution_count": 14,
   "id": "b1418edc-f30d-4555-8b13-8772cd7504ba",
   "metadata": {},
   "outputs": [],
   "source": [
    "streamlines = slice_internal_mesh.streamlines_evenly_spaced_2D(\n",
    "    vectors='U',\n",
    "    start_position=(0.05, 0.05, 0),\n",
    "    separating_distance=1,\n",
    "    separating_distance_ratio=0.1,\n",
    ")"
   ]
  },
  {
   "cell_type": "code",
   "execution_count": 15,
   "id": "2c8b9353-1567-4188-bdcf-cc837b7dd170",
   "metadata": {},
   "outputs": [
    {
     "data": {
      "application/vnd.jupyter.widget-view+json": {
       "model_id": "d4d3591eee7a4445b629eccde19cf5a9",
       "version_major": 2,
       "version_minor": 0
      },
      "text/plain": [
       "Widget(value=\"<iframe src='http://localhost:62731/index.html?ui=P_0x156e7be20_1&reconnect=auto' style='width: …"
      ]
     },
     "metadata": {},
     "output_type": "display_data"
    }
   ],
   "source": [
    "plotter = pv.Plotter()\n",
    "plotter.add_mesh(slice_boundaries[\"movingWall\"], color='red', line_width=3)\n",
    "plotter.add_mesh(slice_boundaries[\"fixedWalls\"], color='black', line_width=3)\n",
    "plotter.add_mesh(streamlines.tube(radius=0.0005), scalars=\"U\")\n",
    "plotter.view_xy()\n",
    "plotter.enable_parallel_projection()\n",
    "plotter.show()"
   ]
  },
  {
   "cell_type": "markdown",
   "id": "044bd2d7-d47d-4795-9866-dfc528b2b859",
   "metadata": {},
   "source": [
    "### No streamlines"
   ]
  },
  {
   "cell_type": "code",
   "execution_count": 16,
   "id": "329efe7a-cc8e-4a95-8764-4b00b4b4ea90",
   "metadata": {},
   "outputs": [
    {
     "data": {
      "application/vnd.jupyter.widget-view+json": {
       "model_id": "cb6d970c14a94600b4092e6966c64818",
       "version_major": 2,
       "version_minor": 0
      },
      "text/plain": [
       "Widget(value=\"<iframe src='http://localhost:62731/index.html?ui=P_0x156e77e50_2&reconnect=auto' style='width: …"
      ]
     },
     "metadata": {},
     "output_type": "display_data"
    }
   ],
   "source": [
    "pt = pv.Plotter()\n",
    "pt.add_mesh(slice_internal_mesh)\n",
    "pt.show()"
   ]
  },
  {
   "cell_type": "code",
   "execution_count": 17,
   "id": "125c029c-4cdc-4813-a67a-7dad6d75e5fd",
   "metadata": {},
   "outputs": [
    {
     "data": {
      "application/vnd.jupyter.widget-view+json": {
       "model_id": "625472e95c344647918713720cc774e3",
       "version_major": 2,
       "version_minor": 0
      },
      "text/plain": [
       "Widget(value=\"<iframe src='http://localhost:62731/index.html?ui=P_0x156e7b940_3&reconnect=auto' style='width: …"
      ]
     },
     "metadata": {},
     "output_type": "display_data"
    }
   ],
   "source": [
    "pt = pv.Plotter()\n",
    "pt.add_mesh(internal_mesh)\n",
    "pt.show()"
   ]
  },
  {
   "cell_type": "code",
   "execution_count": null,
   "id": "bb20b0a1-1368-44ad-8dde-734a075cb211",
   "metadata": {},
   "outputs": [],
   "source": []
  }
 ],
 "metadata": {
  "kernelspec": {
   "display_name": "Python 3 (ipykernel)",
   "language": "python",
   "name": "python3"
  },
  "language_info": {
   "codemirror_mode": {
    "name": "ipython",
    "version": 3
   },
   "file_extension": ".py",
   "mimetype": "text/x-python",
   "name": "python",
   "nbconvert_exporter": "python",
   "pygments_lexer": "ipython3",
   "version": "3.9.16"
  }
 },
 "nbformat": 4,
 "nbformat_minor": 5
}

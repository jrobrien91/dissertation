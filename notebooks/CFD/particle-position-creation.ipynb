{
 "cells": [
  {
   "cell_type": "markdown",
   "id": "bfbf865d-8edf-4df3-a865-cbcc3d95eefa",
   "metadata": {
    "tags": []
   },
   "source": [
    "# Particle Position Creation\n",
    "\n",
    "- To process the `uncoupledKinematicParcelFoam` Lagrangian Solver within openFOAM, a text file containing positions to generate particles is needed within the VTK format. \n",
    "\n",
    "- This notebook generates these text files and creates a homogeneous spaced 'cloud' centered on the location of the Cloud Droplet Probe sample volume within the model\n",
    "\n",
    "- Through testing, the time to simulate 50 thousand particles with `uncoupledKinematicParcelFoam` for the NASA P-3 with pylons (on a single processor) was four days on aircraft. Therefore, to create a homogenous 'cloud' across an entire grid cell for the solution would require 2 million particles (40 days per solution to solve). \n",
    "\n",
    "- Therefore, a much narrow portion of inlet patch cell is used to generate ~100#/cc concentrations with 223 x 223 particles (or 49729 total)."
   ]
  },
  {
   "cell_type": "code",
   "execution_count": 1,
   "id": "c5d2c5e9-85fd-4c9a-9274-3a219f57da15",
   "metadata": {},
   "outputs": [],
   "source": [
    "import numpy as np"
   ]
  },
  {
   "cell_type": "markdown",
   "id": "7f0535c9-9359-4fc4-8a61-0f128cc54b6c",
   "metadata": {},
   "source": [
    "## Define Inputs and Constants"
   ]
  },
  {
   "cell_type": "code",
   "execution_count": 2,
   "id": "ed97d974-724a-4275-94de-8a61bbe61111",
   "metadata": {},
   "outputs": [],
   "source": [
    "# Note: particles are released at inlet patch, x-dimension not needed\n",
    "sample_volume = {'navy' : [0, 2.74, 13.75],\n",
    "                 'extended' : [0, 3.05, 13.7]\n",
    "                }\n",
    "# Define the number of particles\n",
    "nparticle = 50000.\n",
    "# Define the desired droplet concentration\n",
    "droplet_conc = 100."
   ]
  },
  {
   "cell_type": "markdown",
   "id": "59952fea-cfbe-4787-95b4-cf07507a6211",
   "metadata": {},
   "source": [
    "## Define the Mean Distance between Droplets for a given Concentration\n",
    "\n",
    "- From this blog by Dr. Alex DeCaria of Millersville University on the [Mean Distance between Cloud Droplets](https://blogs.millersville.edu/adecaria/files/2021/11/Mean_Distance_Between_Cloud_Drops.pdf), the mean cloud droplet spacing for our ~100#/cc concentration is determined by $$\\bar{r} = 0.554n^{-\\frac{1}{3}}$$\n",
    "\n",
    "- Small note: [this LaTeX generator was used to define the above equation](https://latexeditor.lagrida.com/)"
   ]
  },
  {
   "cell_type": "code",
   "execution_count": 3,
   "id": "89ab34ff-7a40-4433-b48a-b39f5c301673",
   "metadata": {},
   "outputs": [],
   "source": [
    "# mean distance between droplets [convert to meters]\n",
    "mean_dis = (0.554 * (droplet_conc**(-1/3.))) * 0.01 # distance in meters"
   ]
  },
  {
   "cell_type": "code",
   "execution_count": 4,
   "id": "ed946097-5a63-437f-83b0-37d11427c05a",
   "metadata": {},
   "outputs": [
    {
     "data": {
      "text/plain": [
       "0.0011935568182776639"
      ]
     },
     "execution_count": 4,
     "metadata": {},
     "output_type": "execute_result"
    }
   ],
   "source": [
    "mean_dis"
   ]
  },
  {
   "cell_type": "markdown",
   "id": "7fd3badb-5665-4866-975d-79b3775544d1",
   "metadata": {},
   "source": [
    "## Calculate the Grid Area and center on CDP Sample Volume"
   ]
  },
  {
   "cell_type": "code",
   "execution_count": 5,
   "id": "9d9b52c4-619e-4722-8bf6-a775dce78f1b",
   "metadata": {},
   "outputs": [
    {
     "name": "stdout",
     "output_type": "stream",
     "text": [
      "0.2673567272941967\n"
     ]
    }
   ],
   "source": [
    "# Define the area we are creating grid over. \n",
    "# For ~50k particles, we need ~500cc volume to generate 100/cc concentration\n",
    "dy = int(np.round(np.sqrt(nparticle))) * mean_dis\n",
    "print(dy)"
   ]
  },
  {
   "cell_type": "code",
   "execution_count": 6,
   "id": "08f62462-3805-4a52-9b90-3a41a464a6a5",
   "metadata": {},
   "outputs": [
    {
     "data": {
      "text/plain": [
       "0.13367836364709834"
      ]
     },
     "execution_count": 6,
     "metadata": {},
     "output_type": "execute_result"
    }
   ],
   "source": [
    "dy / 2"
   ]
  },
  {
   "cell_type": "code",
   "execution_count": 7,
   "id": "68578179-d2f4-4a3a-8903-1e1ea43093c8",
   "metadata": {},
   "outputs": [],
   "source": [
    "navy_jy = np.arange(sample_volume['navy'][1] - (dy/2.), sample_volume['navy'][1] + (dy / 2.), mean_dis)\n",
    "navy_jz = np.arange(sample_volume['navy'][2] - (dy/2.), sample_volume['navy'][2] + (dy / 2.), mean_dis)"
   ]
  },
  {
   "cell_type": "code",
   "execution_count": 8,
   "id": "5fed7267-816e-42b6-849d-7588052f2f4f",
   "metadata": {},
   "outputs": [],
   "source": [
    "navy_y, navy_z = np.meshgrid(navy_jy, navy_jz)"
   ]
  },
  {
   "cell_type": "code",
   "execution_count": 9,
   "id": "53bac609-0604-4332-998e-9c409e009a4c",
   "metadata": {},
   "outputs": [],
   "source": [
    "extend_jy = np.arange(sample_volume['extended'][1] - (dy/2.), sample_volume['extended'][1] + (dy / 2.), mean_dis)\n",
    "extend_jz = np.arange(sample_volume['extended'][2] - (dy/2.), sample_volume['extended'][2] + (dy / 2.), mean_dis)"
   ]
  },
  {
   "cell_type": "code",
   "execution_count": 10,
   "id": "4aa8a46f-592c-4577-9aea-2023ca5fb2aa",
   "metadata": {},
   "outputs": [],
   "source": [
    "extend_y, extend_z = np.meshgrid(extend_jy, extend_jz)"
   ]
  },
  {
   "cell_type": "markdown",
   "id": "f1e48aa5-beb1-49e0-960b-b846c7d7dd42",
   "metadata": {},
   "source": [
    "### Write out the files"
   ]
  },
  {
   "cell_type": "code",
   "execution_count": 11,
   "id": "a0f3d868-01aa-4e7e-b74a-746d8de1fd01",
   "metadata": {},
   "outputs": [],
   "source": [
    "def write_header(nfile):\n",
    "    \"\"\"\n",
    "    openFOAM requires specific file header information.\n",
    "    This function takes care of that\n",
    "    \"\"\"\n",
    "    # Write header information\n",
    "    nfile.write(\"FoamFile\\n\")\n",
    "    nfile.write(\"{\\n\")\n",
    "    nfile.write(\"\\tversion\\t\\t2.0;\\n\")\n",
    "    nfile.write(\"\\tformat\\t\\tascii;\\n\")\n",
    "    nfile.write(\"\\tclass\\t\\tvectorField;\\n\")\n",
    "    nfile.write(\"\\tlocation\\tconstant;\\n\")\n",
    "    nfile.write(\"\\tobject\\t\\tpositions;\\n\")\n",
    "    nfile.write(\"}\\n\")\n",
    "    nfile.write(\"// * * * * * * * * * * * * * * * * * * * * * * * * * * * * * * * * * * * * * //\\n\")\n",
    "    nfile.write(\"(\")"
   ]
  },
  {
   "cell_type": "code",
   "execution_count": 12,
   "id": "fd49a17d-4be6-4317-ac75-a4990c1865e1",
   "metadata": {},
   "outputs": [],
   "source": [
    "# Create a file to output the data\n",
    "navy_file = open(r\"navyPylon_particle_positions_\" + str(int(droplet_conc)) + 'cc.txt', \"w\")\n",
    "extend_file = open(r\"extendPylong_particle_positions_\" + str(int(droplet_conc)) + 'cc.txt', \"w\")"
   ]
  },
  {
   "cell_type": "code",
   "execution_count": 13,
   "id": "e575399d-1b64-4c2b-9b5e-bd0b745218ba",
   "metadata": {},
   "outputs": [],
   "source": [
    "# Navy File\n",
    "write_header(navy_file)\n",
    "for i in range(navy_y.shape[0]):\n",
    "    for j in range(navy_z.shape[1]):\n",
    "        navy_file.write('( -10.0 ' + str(np.around(navy_y[i, j], 5)) + ' ' + str(np.around(navy_z[i, j], 5)) + ')\\n')\n",
    "navy_file.write(')')\n",
    "navy_file.close()"
   ]
  },
  {
   "cell_type": "code",
   "execution_count": 14,
   "id": "be7ad660-4f84-4108-a0c2-ee8db326e54d",
   "metadata": {},
   "outputs": [],
   "source": [
    "# Extended File\n",
    "# Navy File\n",
    "write_header(extend_file)\n",
    "for i in range(extend_y.shape[0]):\n",
    "    for j in range(extend_z.shape[1]):\n",
    "        extend_file.write('( -10.0 ' + str(np.around(extend_y[i, j], 5)) + ' ' + str(np.around(extend_z[i, j], 5)) + ')\\n')\n",
    "extend_file.write(')')\n",
    "extend_file.close()"
   ]
  },
  {
   "cell_type": "code",
   "execution_count": null,
   "id": "9d10d2b9-7a16-4dc8-bc4c-cff4d84d5a7a",
   "metadata": {},
   "outputs": [],
   "source": []
  }
 ],
 "metadata": {
  "kernelspec": {
   "display_name": "Python 3 (ipykernel)",
   "language": "python",
   "name": "python3"
  },
  "language_info": {
   "codemirror_mode": {
    "name": "ipython",
    "version": 3
   },
   "file_extension": ".py",
   "mimetype": "text/x-python",
   "name": "python",
   "nbconvert_exporter": "python",
   "pygments_lexer": "ipython3",
   "version": "3.9.16"
  }
 },
 "nbformat": 4,
 "nbformat_minor": 5
}

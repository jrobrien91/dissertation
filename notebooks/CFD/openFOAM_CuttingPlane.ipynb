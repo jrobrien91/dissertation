{
 "cells": [
  {
   "cell_type": "markdown",
   "id": "7f0e0590-6af1-4d51-9b2f-3d7f2d98684d",
   "metadata": {},
   "source": [
    "# Plotting OpenFOAM Solutions - CuttingPlane\n",
    "\n",
    "- Reading in VTK files generated from OpenFOAM CuttingPlane utility"
   ]
  },
  {
   "cell_type": "code",
   "execution_count": 1,
   "id": "0af7481c-e395-4261-a21d-a6e0ed115f1b",
   "metadata": {},
   "outputs": [
    {
     "name": "stdout",
     "output_type": "stream",
     "text": [
      "\n",
      "## You are using the Python ARM Radar Toolkit (Py-ART), an open source\n",
      "## library for working with weather radar data. Py-ART is partly\n",
      "## supported by the U.S. Department of Energy as part of the Atmospheric\n",
      "## Radiation Measurement (ARM) Climate Research Facility, an Office of\n",
      "## Science user facility.\n",
      "##\n",
      "## If you use this software to prepare a publication, please cite:\n",
      "##\n",
      "##     JJ Helmus and SM Collis, JORS 2016, doi: 10.5334/jors.119\n",
      "\n"
     ]
    }
   ],
   "source": [
    "import numpy as np\n",
    "import matplotlib.pyplot as plt\n",
    "\n",
    "import pyvista as pv\n",
    "import pyart"
   ]
  },
  {
   "cell_type": "code",
   "execution_count": 2,
   "id": "62cbb593-2dcc-4688-b07f-90b9bb3d074b",
   "metadata": {},
   "outputs": [],
   "source": [
    "pv.global_theme.font.family = 'times' "
   ]
  },
  {
   "cell_type": "markdown",
   "id": "26627f49-bce3-48df-b9dd-5afcadcaa47f",
   "metadata": {},
   "source": [
    "## Read and Display the VTK File"
   ]
  },
  {
   "cell_type": "code",
   "execution_count": 3,
   "id": "3721f359-c017-4a7c-a784-fc2a2d7e4e6b",
   "metadata": {},
   "outputs": [],
   "source": [
    "mesh = pv.read('/Users/jrobrien/Dissertation/data/pmsCanister/pmsCanister_v8_tas120_aoa0_900T30_part9/postProcessing/cuttingPlane/1000/U_xNormal.vtk')\n"
   ]
  },
  {
   "cell_type": "code",
   "execution_count": 4,
   "id": "fe50c3ab-3ffb-4b36-9dbb-68eb3a25c0f4",
   "metadata": {},
   "outputs": [
    {
     "data": {
      "text/html": [
       "<table><tr><th>Header</th><th>Data Arrays</th></tr><tr><td>\n",
       "<table>\n",
       "<tr><th>PolyData</th><th>Information</th></tr>\n",
       "<tr><td>N Cells</td><td>12465</td></tr>\n",
       "<tr><td>N Points</td><td>13050</td></tr>\n",
       "<tr><td>N Strips</td><td>0</td></tr>\n",
       "<tr><td>X Bounds</td><td>-1.000e+01, 1.000e+01</td></tr>\n",
       "<tr><td>Y Bounds</td><td>-5.046e-17, 4.851e-17</td></tr>\n",
       "<tr><td>Z Bounds</td><td>-1.000e+01, 1.000e+01</td></tr>\n",
       "<tr><td>N Arrays</td><td>1</td></tr>\n",
       "</table>\n",
       "\n",
       "</td><td>\n",
       "<table>\n",
       "<tr><th>Name</th><th>Field</th><th>Type</th><th>N Comp</th><th>Min</th><th>Max</th></tr>\n",
       "<tr><td>U</td><td>Points</td><td>float32</td><td>3</td><td>-6.994e+01</td><td>1.547e+02</td></tr>\n",
       "</table>\n",
       "\n",
       "</td></tr> </table>"
      ],
      "text/plain": [
       "PolyData (0x17f1b8b80)\n",
       "  N Cells:    12465\n",
       "  N Points:   13050\n",
       "  N Strips:   0\n",
       "  X Bounds:   -1.000e+01, 1.000e+01\n",
       "  Y Bounds:   -5.046e-17, 4.851e-17\n",
       "  Z Bounds:   -1.000e+01, 1.000e+01\n",
       "  N Arrays:   1"
      ]
     },
     "execution_count": 4,
     "metadata": {},
     "output_type": "execute_result"
    }
   ],
   "source": [
    "mesh"
   ]
  },
  {
   "cell_type": "code",
   "execution_count": 5,
   "id": "aba525c2-e7b6-42e6-9001-d410befa941e",
   "metadata": {},
   "outputs": [
    {
     "data": {
      "text/plain": [
       "pyvista_ndarray([[ 1.1999999e+02, -2.3299680e-07, -3.5309280e-05],\n",
       "                 [ 1.2000000e+02, -5.3630430e-08, -8.8450124e-06],\n",
       "                 [ 1.2000000e+02,  0.0000000e+00,  0.0000000e+00],\n",
       "                 ...,\n",
       "                 [ 1.2000110e+02, -2.5491466e-04, -3.4166782e-04],\n",
       "                 [ 1.1999914e+02, -1.5721937e-04,  4.2298404e-03],\n",
       "                 [ 1.2000076e+02, -1.3686746e-04, -3.0799574e-04]],\n",
       "                dtype=float32)"
      ]
     },
     "execution_count": 5,
     "metadata": {},
     "output_type": "execute_result"
    }
   ],
   "source": [
    "mesh['U']"
   ]
  },
  {
   "cell_type": "code",
   "execution_count": 6,
   "id": "708602c4-47b1-4a45-acb2-80c00f90b499",
   "metadata": {},
   "outputs": [
    {
     "data": {
      "text/html": [
       "<table><tr><th>Header</th><th>Data Arrays</th></tr><tr><td>\n",
       "<table>\n",
       "<tr><th>PolyData</th><th>Information</th></tr>\n",
       "<tr><td>N Cells</td><td>12465</td></tr>\n",
       "<tr><td>N Points</td><td>13050</td></tr>\n",
       "<tr><td>N Strips</td><td>0</td></tr>\n",
       "<tr><td>X Bounds</td><td>-1.000e+01, 1.000e+01</td></tr>\n",
       "<tr><td>Y Bounds</td><td>-5.046e-17, 4.851e-17</td></tr>\n",
       "<tr><td>Z Bounds</td><td>-1.000e+01, 1.000e+01</td></tr>\n",
       "<tr><td>N Arrays</td><td>1</td></tr>\n",
       "</table>\n",
       "\n",
       "</td><td>\n",
       "<table>\n",
       "<tr><th>Name</th><th>Field</th><th>Type</th><th>N Comp</th><th>Min</th><th>Max</th></tr>\n",
       "<tr><td>U</td><td>Points</td><td>float32</td><td>3</td><td>-6.994e+01</td><td>1.547e+02</td></tr>\n",
       "</table>\n",
       "\n",
       "</td></tr> </table>"
      ],
      "text/plain": [
       "PolyData (0x17f1b8b80)\n",
       "  N Cells:    12465\n",
       "  N Points:   13050\n",
       "  N Strips:   0\n",
       "  X Bounds:   -1.000e+01, 1.000e+01\n",
       "  Y Bounds:   -5.046e-17, 4.851e-17\n",
       "  Z Bounds:   -1.000e+01, 1.000e+01\n",
       "  N Arrays:   1"
      ]
     },
     "execution_count": 6,
     "metadata": {},
     "output_type": "execute_result"
    }
   ],
   "source": [
    "mesh"
   ]
  },
  {
   "cell_type": "code",
   "execution_count": 7,
   "id": "45ff1881-60f6-467a-9c2b-47463b91ce4f",
   "metadata": {},
   "outputs": [
    {
     "data": {
      "application/vnd.jupyter.widget-view+json": {
       "model_id": "75d3c1cb533b427fbf54748699485da2",
       "version_major": 2,
       "version_minor": 0
      },
      "text/plain": [
       "Widget(value=\"<iframe src='http://localhost:50009/index.html?ui=P_0x17f1909a0_0&reconnect=auto' style='width: …"
      ]
     },
     "metadata": {},
     "output_type": "display_data"
    }
   ],
   "source": [
    "mesh.plot(scalars='U', cmap='pyart_HomeyerRainbow')"
   ]
  },
  {
   "cell_type": "markdown",
   "id": "a4216e05-fcbb-48d6-9d69-7ecd9be5bf93",
   "metadata": {
    "tags": []
   },
   "source": [
    "## Contour the Mesh"
   ]
  },
  {
   "cell_type": "code",
   "execution_count": 8,
   "id": "5d0c3270-cd34-44e6-bda6-51a8a15e7e3e",
   "metadata": {},
   "outputs": [],
   "source": [
    "contours = mesh.contour(isosurfaces=np.arange(30, 160, 5))"
   ]
  },
  {
   "cell_type": "code",
   "execution_count": 9,
   "id": "f308a346-bb43-4615-9366-cb38ffe99c3e",
   "metadata": {},
   "outputs": [
    {
     "data": {
      "application/vnd.jupyter.widget-view+json": {
       "model_id": "bc7bcb0c8768482cb4b8d415fd142ecf",
       "version_major": 2,
       "version_minor": 0
      },
      "text/plain": [
       "Widget(value=\"<iframe src='http://localhost:50009/index.html?ui=P_0x17fe10a60_1&reconnect=auto' style='width: …"
      ]
     },
     "metadata": {},
     "output_type": "display_data"
    }
   ],
   "source": [
    "# Create the plotter\n",
    "pt = pv.Plotter()\n",
    "\n",
    "#------------------\n",
    "# Custom Scalar Bar\n",
    "#------------------\n",
    "# annotations to the colorbar\n",
    "annotations = {\n",
    "    120: \"Freestream\",\n",
    "}\n",
    "\n",
    "# Set a custom position and size\n",
    "sargs = dict(height=0.10, \n",
    "             vertical=False, \n",
    "             position_x=0.2, \n",
    "             position_y=0.05, \n",
    "             fmt=\"%.0f\", \n",
    "             color='white', \n",
    "             n_labels=6, \n",
    "             title='Velocity [m/s]')\n",
    "\n",
    "# Add the mesh, add the scalar bar args\n",
    "pt.add_mesh(mesh, opacity=0.85, cmap='pyart_HomeyerRainbow', scalar_bar_args=sargs)\n",
    "# Add the contours\n",
    "pt.add_mesh(contours, color=\"white\", line_width=3)\n",
    "# Add a ruler\n",
    "pt.add_ruler(pointa=[-1, 0, 0.5],\n",
    "             pointb=[1, 0, 0.5],\n",
    "             title='Distance [m]'\n",
    "            )\n",
    "#pt.set_background('white')\n",
    "pt.show_grid(color='black')\n",
    "pt.view_xz()\n",
    "#pt.set_scale(1,1,10)\n",
    "pt.show()"
   ]
  },
  {
   "cell_type": "markdown",
   "id": "26da116b-3156-432f-830a-24da5a40d563",
   "metadata": {},
   "source": [
    "## Streamlines"
   ]
  },
  {
   "cell_type": "code",
   "execution_count": 10,
   "id": "4d90a9b2-db13-40c9-b3ca-9fad7438a07d",
   "metadata": {},
   "outputs": [],
   "source": [
    "line_streamlines = mesh.streamlines('U',\n",
    "                                    pointa=(-5, 0, 1),\n",
    "                                    pointb=(5, 0, -1),\n",
    "                                    n_points=50,\n",
    "                                    max_time=1000.0,\n",
    "                                    compute_vorticity=False,  # vorticity already exists in dataset\n",
    "                                   )"
   ]
  },
  {
   "cell_type": "code",
   "execution_count": 11,
   "id": "29d4a634-6f8e-4a97-bf4d-895d2b737ecf",
   "metadata": {},
   "outputs": [
    {
     "data": {
      "text/html": [
       "<table><tr><th>Header</th><th>Data Arrays</th></tr><tr><td>\n",
       "<table>\n",
       "<tr><th>PolyData</th><th>Information</th></tr>\n",
       "<tr><td>N Cells</td><td>96</td></tr>\n",
       "<tr><td>N Points</td><td>2383</td></tr>\n",
       "<tr><td>N Strips</td><td>0</td></tr>\n",
       "<tr><td>X Bounds</td><td>-9.998e+00, 9.973e+00</td></tr>\n",
       "<tr><td>Y Bounds</td><td>-1.888e-03, 2.996e-03</td></tr>\n",
       "<tr><td>Z Bounds</td><td>-1.001e+00, 1.002e+00</td></tr>\n",
       "<tr><td>N Arrays</td><td>5</td></tr>\n",
       "</table>\n",
       "\n",
       "</td><td>\n",
       "<table>\n",
       "<tr><th>Name</th><th>Field</th><th>Type</th><th>N Comp</th><th>Min</th><th>Max</th></tr>\n",
       "<tr><td><b>U</b></td><td>Points</td><td>float32</td><td>3</td><td>-6.956e+01</td><td>1.476e+02</td></tr>\n",
       "<tr><td>U-normed</td><td>Points</td><td>float32</td><td>1</td><td>5.278e+01</td><td>1.483e+02</td></tr>\n",
       "<tr><td>IntegrationTime</td><td>Points</td><td>float64</td><td>1</td><td>-1.237e-01</td><td>1.231e-01</td></tr>\n",
       "<tr><td>ReasonForTermination</td><td>Cells</td><td>int32</td><td>1</td><td>1.000e+00</td><td>1.000e+00</td></tr>\n",
       "<tr><td>SeedIds</td><td>Cells</td><td>int32</td><td>1</td><td>0.000e+00</td><td>5.000e+01</td></tr>\n",
       "</table>\n",
       "\n",
       "</td></tr> </table>"
      ],
      "text/plain": [
       "PolyData (0x2916bb220)\n",
       "  N Cells:    96\n",
       "  N Points:   2383\n",
       "  N Strips:   0\n",
       "  X Bounds:   -9.998e+00, 9.973e+00\n",
       "  Y Bounds:   -1.888e-03, 2.996e-03\n",
       "  Z Bounds:   -1.001e+00, 1.002e+00\n",
       "  N Arrays:   5"
      ]
     },
     "execution_count": 11,
     "metadata": {},
     "output_type": "execute_result"
    }
   ],
   "source": [
    "line_streamlines"
   ]
  },
  {
   "cell_type": "code",
   "execution_count": 12,
   "id": "8965970b-e54b-4af3-bac6-b6632ca2fd87",
   "metadata": {},
   "outputs": [
    {
     "data": {
      "application/vnd.jupyter.widget-view+json": {
       "model_id": "569be13cd48649cca108251cc9f0eff3",
       "version_major": 2,
       "version_minor": 0
      },
      "text/plain": [
       "Widget(value=\"<iframe src='http://localhost:50009/index.html?ui=P_0x17fdc7c70_2&reconnect=auto' style='width: …"
      ]
     },
     "metadata": {},
     "output_type": "display_data"
    }
   ],
   "source": [
    "pt = pv.Plotter()\n",
    "\n",
    "# Set a custom position and size\n",
    "sargs = dict(height=0.10, \n",
    "             vertical=False, \n",
    "             position_x=0.2, \n",
    "             position_y=0.05, \n",
    "             fmt=\"%.0f\", \n",
    "             color='white', \n",
    "             n_labels=6, \n",
    "             title='Velocity [m/s]')\n",
    "\n",
    "# Add the mesh, add the scalar bar args\n",
    "##pt.add_mesh(mesh, opacity=0.01, cmap='pyart_HomeyerRainbow', scalar_bar_args=sargs)\n",
    "pt.add_mesh(mesh, opacity=0.1)\n",
    "# Add a ruler\n",
    "pt.add_ruler(pointa=[-1, 0, 0.5],\n",
    "             pointb=[ 1, 0, 0.5],\n",
    "             title='Distance [m]'\n",
    "            )\n",
    "# Add streamlines\n",
    "pt.add_mesh(line_streamlines, lighting=False)\n",
    "pt.view_xz()\n",
    "#pt.show(cpos=camera_position)\n",
    "pt.show()"
   ]
  },
  {
   "cell_type": "code",
   "execution_count": 13,
   "id": "772d9962-8ff4-4b8d-a871-48f83310afe0",
   "metadata": {},
   "outputs": [
    {
     "data": {
      "text/plain": [
       "pyvista_ndarray([[ 1.1999999e+02, -2.3299680e-07, -3.5309280e-05],\n",
       "                 [ 1.2000000e+02, -5.3630430e-08, -8.8450124e-06],\n",
       "                 [ 1.2000000e+02,  0.0000000e+00,  0.0000000e+00],\n",
       "                 ...,\n",
       "                 [ 1.2000110e+02, -2.5491466e-04, -3.4166782e-04],\n",
       "                 [ 1.1999914e+02, -1.5721937e-04,  4.2298404e-03],\n",
       "                 [ 1.2000076e+02, -1.3686746e-04, -3.0799574e-04]],\n",
       "                dtype=float32)"
      ]
     },
     "execution_count": 13,
     "metadata": {},
     "output_type": "execute_result"
    }
   ],
   "source": [
    "mesh['U']"
   ]
  },
  {
   "cell_type": "code",
   "execution_count": 14,
   "id": "58996878-e7f7-4158-ae92-49e84efc6971",
   "metadata": {},
   "outputs": [],
   "source": [
    "new_array = mesh['U'] - 120"
   ]
  },
  {
   "cell_type": "code",
   "execution_count": 15,
   "id": "ed6bc864-396c-4362-bd47-b27a19ed8988",
   "metadata": {},
   "outputs": [
    {
     "data": {
      "text/plain": [
       "pyvista_ndarray([[-7.62939453e-06, -1.20000000e+02, -1.20000038e+02],\n",
       "                 [ 0.00000000e+00, -1.20000000e+02, -1.20000008e+02],\n",
       "                 [ 0.00000000e+00, -1.20000000e+02, -1.20000000e+02],\n",
       "                 ...,\n",
       "                 [ 1.09863281e-03, -1.20000252e+02, -1.20000343e+02],\n",
       "                 [-8.62121582e-04, -1.20000160e+02, -1.19995773e+02],\n",
       "                 [ 7.62939453e-04, -1.20000137e+02, -1.20000305e+02]],\n",
       "                dtype=float32)"
      ]
     },
     "execution_count": 15,
     "metadata": {},
     "output_type": "execute_result"
    }
   ],
   "source": [
    "new_array"
   ]
  },
  {
   "cell_type": "markdown",
   "id": "5aec88b2-ffd3-4fbc-a3aa-69987137b4bc",
   "metadata": {},
   "source": [
    "## Plot Mesh Quality"
   ]
  },
  {
   "cell_type": "code",
   "execution_count": 16,
   "id": "67367b88-7645-49eb-bda5-f104c7da18fc",
   "metadata": {},
   "outputs": [
    {
     "data": {
      "text/html": [
       "<table><tr><th>Header</th><th>Data Arrays</th></tr><tr><td>\n",
       "<table>\n",
       "<tr><th>PolyData</th><th>Information</th></tr>\n",
       "<tr><td>N Cells</td><td>12465</td></tr>\n",
       "<tr><td>N Points</td><td>13050</td></tr>\n",
       "<tr><td>N Strips</td><td>0</td></tr>\n",
       "<tr><td>X Bounds</td><td>-1.000e+01, 1.000e+01</td></tr>\n",
       "<tr><td>Y Bounds</td><td>-5.046e-17, 4.851e-17</td></tr>\n",
       "<tr><td>Z Bounds</td><td>-1.000e+01, 1.000e+01</td></tr>\n",
       "<tr><td>N Arrays</td><td>3</td></tr>\n",
       "</table>\n",
       "\n",
       "</td><td>\n",
       "<table>\n",
       "<tr><th>Name</th><th>Field</th><th>Type</th><th>N Comp</th><th>Min</th><th>Max</th></tr>\n",
       "<tr><td>U</td><td>Points</td><td>float32</td><td>3</td><td>-6.994e+01</td><td>1.547e+02</td></tr>\n",
       "<tr><td><b>U-normed</b></td><td>Points</td><td>float32</td><td>1</td><td>0.000e+00</td><td>1.574e+02</td></tr>\n",
       "<tr><td>CellQuality</td><td>Cells</td><td>float64</td><td>1</td><td>-1.000e+00</td><td>1.000e+00</td></tr>\n",
       "</table>\n",
       "\n",
       "</td></tr> </table>"
      ],
      "text/plain": [
       "PolyData (0x2957b2280)\n",
       "  N Cells:    12465\n",
       "  N Points:   13050\n",
       "  N Strips:   0\n",
       "  X Bounds:   -1.000e+01, 1.000e+01\n",
       "  Y Bounds:   -5.046e-17, 4.851e-17\n",
       "  Z Bounds:   -1.000e+01, 1.000e+01\n",
       "  N Arrays:   3"
      ]
     },
     "execution_count": 16,
     "metadata": {},
     "output_type": "execute_result"
    }
   ],
   "source": [
    "qual = mesh.compute_cell_quality(quality_measure='scaled_jacobian')\n",
    "qual"
   ]
  },
  {
   "cell_type": "code",
   "execution_count": 17,
   "id": "9243cf93-fcd5-4ee8-85a8-afb69f323265",
   "metadata": {},
   "outputs": [
    {
     "data": {
      "application/vnd.jupyter.widget-view+json": {
       "model_id": "ae92bec8c0a84f5d8b5da7627ccef35d",
       "version_major": 2,
       "version_minor": 0
      },
      "text/plain": [
       "Widget(value=\"<iframe src='http://localhost:50009/index.html?ui=P_0x17fe10df0_3&reconnect=auto' style='width: …"
      ]
     },
     "metadata": {},
     "output_type": "display_data"
    }
   ],
   "source": [
    "qual.plot(scalars='CellQuality')"
   ]
  },
  {
   "cell_type": "markdown",
   "id": "aa5b737b-20af-443f-a471-8aab092cfe36",
   "metadata": {},
   "source": [
    "## Plot centerline through the PMS Canister"
   ]
  },
  {
   "cell_type": "code",
   "execution_count": 18,
   "id": "95482c76-a784-49ae-98f3-9a5e3e427a57",
   "metadata": {},
   "outputs": [
    {
     "name": "stderr",
     "output_type": "stream",
     "text": [
      "/opt/homebrew/Caskroom/miniforge/base/envs/dissertation/lib/python3.9/site-packages/pyvista/utilities/helpers.py:507: UserWarning: Points is not a float type. This can cause issues when transforming or applying filters. Casting to ``np.float32``. Disable this by passing ``force_float=False``.\n",
      "  warnings.warn(\n"
     ]
    },
    {
     "data": {
      "application/vnd.jupyter.widget-view+json": {
       "model_id": "fdabe64e2917446cb5d8a2875598e6c7",
       "version_major": 2,
       "version_minor": 0
      },
      "text/plain": [
       "Widget(value=\"<iframe src='http://localhost:50009/index.html?ui=P_0x17fe10d00_4&reconnect=auto' style='width: …"
      ]
     },
     "metadata": {},
     "output_type": "display_data"
    }
   ],
   "source": [
    "# Make two points to construct the line between\n",
    "a = [-2, 0, 0]\n",
    "b = [ 2, 0, 0]\n",
    "\n",
    "# Preview how this line intersects this mesh\n",
    "line = pv.Line(a, b)\n",
    "\n",
    "p = pv.Plotter()\n",
    "p.add_mesh(mesh)\n",
    "p.add_mesh(line, color=\"white\", line_width=10)\n",
    "p.add_point_labels([a, b], [\"A\", \"B\"], font_size=48, point_color=\"red\", text_color=\"red\")\n",
    "p.show()"
   ]
  },
  {
   "cell_type": "code",
   "execution_count": 19,
   "id": "2ecb018c-17b7-46d4-a488-9c6da66212df",
   "metadata": {},
   "outputs": [
    {
     "data": {
      "image/png": "[encoded data removed]",
      "text/plain": [
       "<Figure size 1000x500 with 1 Axes>"
      ]
     },
     "metadata": {},
     "output_type": "display_data"
    }
   ],
   "source": [
    "mesh.plot_over_line(a,\n",
    "                    b,\n",
    "                    resolution=10000,\n",
    "                    title=\"PMS Canister - Freestream Velocity = 120[m/s]\",\n",
    "                    ylabel=\"Velocity [m/s]\",\n",
    "                    figsize=(10, 5),\n",
    "                    )"
   ]
  }
 ],
 "metadata": {
  "kernelspec": {
   "display_name": "Python 3 (ipykernel)",
   "language": "python",
   "name": "python3"
  },
  "language_info": {
   "codemirror_mode": {
    "name": "ipython",
    "version": 3
   },
   "file_extension": ".py",
   "mimetype": "text/x-python",
   "name": "python",
   "nbconvert_exporter": "python",
   "pygments_lexer": "ipython3",
   "version": "3.9.16"
  }
 },
 "nbformat": 4,
 "nbformat_minor": 5
}
